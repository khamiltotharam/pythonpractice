{
 "cells": [
  {
   "cell_type": "markdown",
   "id": "dfdc31c1-d2d7-457e-9748-9f4c2e0d31a5",
   "metadata": {},
   "source": [
    "# Chapter 2 Coding Set\n",
    "\n",
    "**Remember to save a copy of this template BEFORE YOU START WORKING :)**\n",
    "\n",
    "Work completed by Khamil Totharam.\n",
    "\n",
    "If you struggle with a problem for an extended period of time, remember you can go comment on two other submissions now (seeing other student work helps), or you can post in our discussion forum for questions, which can also earn you extra credit."
   ]
  },
  {
   "cell_type": "markdown",
   "id": "550d6545-87bd-4ce6-9d6f-2fa82b070f67",
   "metadata": {},
   "source": [
    "## Imports\n",
    "\n",
    "**If your program requires additional modules, external resources, or files, use this cell to set them up**"
   ]
  },
  {
   "cell_type": "code",
   "execution_count": 2,
   "id": "af7b1712-e2af-4d77-8033-425afad3d88a",
   "metadata": {},
   "outputs": [],
   "source": [
    "# configure your environment\n",
    "\n",
    "# you can uncomment this code to make use of files stored in your Google Drive\n",
    "#from google.colab import drive\n",
    "#drive.mount('/content/drive')\n",
    "\n",
    "# you can uncomment the following line of code to use the pandas library\n",
    "import pandas as pd"
   ]
  },
  {
   "cell_type": "markdown",
   "id": "7d7d3f37-adc7-4798-8778-a97b10514217",
   "metadata": {},
   "source": [
    "## Algorithm Workbench"
   ]
  },
  {
   "cell_type": "markdown",
   "id": "a101ba53-962f-4a0e-833f-9297a6a17ffb",
   "metadata": {},
   "source": [
    "### Problem 4\n",
    "\n",
    "#### Question Text\n",
    "\n",
    "*Paste in the question text below.*\n",
    "\n",
    "Assume the variable result, w, x, y, and z are all integers, and that w = 5, x = 4, y = 8, and z = 2.  What value will be stored in result after each of the following statements execute?\n",
    "\n",
    "    a. result = x + y\n",
    "    b. result = z * 2\n",
    "    c. result = y / x\n",
    "    d. result = y - z\n",
    "    e. result = w // z\n",
    "\n",
    "#### High-Level Overview\n",
    "\n",
    "*In two to three sentences at minimum, walk through your general approach to the problem and identify any particular issues you had.*\n",
    "\n",
    "[Please double click this cell and update the problem number above, choosing one of the Algorithm Workbench problems from Chapter 2 of your textbook. Then, update the question text. Finally, once you've completed the problem, please replace the high-level overview placeholder text with your own words describing your solution.]"
   ]
  },
  {
   "cell_type": "code",
   "execution_count": 5,
   "id": "8582a675-1d2b-4521-a152-094cca178b01",
   "metadata": {},
   "outputs": [
    {
     "name": "stdout",
     "output_type": "stream",
     "text": [
      "a. result = 12\n",
      "b. result = 4\n",
      "c. result = 2.0\n",
      "d. result = 6\n",
      "e. result = 2\n"
     ]
    }
   ],
   "source": [
    "# add your code to this cell\n",
    "# remember to include comments like this one for every line of code\n",
    "# remember to \"Run cell\" once you're done, excecuting your code so the output is displayed below\n",
    "result, w, x, y, z = 0, 5, 4, 8, 2\n",
    "print(f\"a. result = {x + y}\") # result = 12\n",
    "print(f\"b. result = {z * 2}\") # result = 4\n",
    "print(f\"c. result = {y / x}\") # result = 2.0\n",
    "print(f\"d. result = {y - z}\") # result = 6\n",
    "print(f\"e. result = {w // z}\") # result = 2"
   ]
  },
  {
   "cell_type": "markdown",
   "id": "ab6dd7c7-1299-44e9-9f04-25bb3917ef74",
   "metadata": {},
   "source": [
    "## Programming Exercises"
   ]
  },
  {
   "cell_type": "markdown",
   "id": "a5c1ed18-56f4-447f-9ea9-56f8e175d0de",
   "metadata": {},
   "source": [
    "### Problem 7. Miles-per-Gallon\n",
    "\n",
    "*Paste in the question text below.*\n",
    "A car's miles-per-gallon (MPG) can be calculated with the following formula:\n",
    "\n",
    "MPG = Miles driven / Gallons of gas used\n",
    "\n",
    "Write a program that asks the user for the number of miles driven and the gallons of gas used. It should calculate the car's MPG and display the result.\n",
    "\n",
    "#### High-Level Overview\n",
    "\n",
    "*In two to three sentences at minimum, walk through your general approach to the problem and identify any particular issues you had.*\n",
    "\n",
    "[Please double click this cell and update the problem number above, choosing one of the problems besides number 13 from the Chapter 2 Programming Exercises in your textbook. Then, update the question text. Finally, once you've completed the problem, please replace the high-level overview placeholder text with your own words describing your solution.]"
   ]
  },
  {
   "cell_type": "code",
   "execution_count": 9,
   "id": "b50e962f-3992-4c29-aaca-c626836ac2e9",
   "metadata": {},
   "outputs": [
    {
     "name": "stdin",
     "output_type": "stream",
     "text": [
      "How many miles have you driven? 100\n",
      "How many gallos of gas have you used? 20\n"
     ]
    },
    {
     "name": "stdout",
     "output_type": "stream",
     "text": [
      "MPG:  5.0\n"
     ]
    }
   ],
   "source": [
    "num_of_miles = 0 # initialize miles driven\n",
    "gallons_of_gas_used = 0 # initialize gallons used\n",
    "mpg = 0 # initialize mpg\n",
    "num_of_miles = input(\"How many miles have you driven?\") # prompt user for miles driven\n",
    "gallons_of_gas_used = input(\"How many gallos of gas have you used?\") #prompt user for gas used\n",
    "mpg = float(num_of_miles) / float(gallons_of_gas_used) # calculate mpg\n",
    "print(\"MPG: \", mpg) # display mpgs"
   ]
  },
  {
   "cell_type": "code",
   "execution_count": null,
   "id": "fea5db93-7fbc-41ef-8c08-0fbd0195eb3a",
   "metadata": {},
   "outputs": [],
   "source": []
  }
 ],
 "metadata": {
  "kernelspec": {
   "display_name": "Python 3 (ipykernel)",
   "language": "python",
   "name": "python3"
  },
  "language_info": {
   "codemirror_mode": {
    "name": "ipython",
    "version": 3
   },
   "file_extension": ".py",
   "mimetype": "text/x-python",
   "name": "python",
   "nbconvert_exporter": "python",
   "pygments_lexer": "ipython3",
   "version": "3.12.7"
  }
 },
 "nbformat": 4,
 "nbformat_minor": 5
}
