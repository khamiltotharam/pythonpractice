{
 "cells": [
  {
   "cell_type": "markdown",
   "id": "dfdc31c1-d2d7-457e-9748-9f4c2e0d31a5",
   "metadata": {},
   "source": [
    "# Chapter 2 Coding Set\n",
    "\n",
    "**Remember to save a copy of this template BEFORE YOU START WORKING :)**\n",
    "\n",
    "Work completed by Khamil Totharam.\n",
    "\n",
    "If you struggle with a problem for an extended period of time, remember you can go comment on two other submissions now (seeing other student work helps), or you can post in our discussion forum for questions, which can also earn you extra credit."
   ]
  },
  {
   "cell_type": "markdown",
   "id": "550d6545-87bd-4ce6-9d6f-2fa82b070f67",
   "metadata": {},
   "source": [
    "## Imports\n",
    "\n",
    "**If your program requires additional modules, external resources, or files, use this cell to set them up**"
   ]
  },
  {
   "cell_type": "code",
   "execution_count": 2,
   "id": "af7b1712-e2af-4d77-8033-425afad3d88a",
   "metadata": {},
   "outputs": [],
   "source": [
    "# configure your environment\n",
    "\n",
    "# you can uncomment this code to make use of files stored in your Google Drive\n",
    "#from google.colab import drive\n",
    "#drive.mount('/content/drive')\n",
    "\n",
    "# you can uncomment the following line of code to use the pandas library\n",
    "import pandas as pd"
   ]
  },
  {
   "cell_type": "markdown",
   "id": "7d7d3f37-adc7-4798-8778-a97b10514217",
   "metadata": {},
   "source": [
    "## Algorithm Workbench"
   ]
  },
  {
   "cell_type": "markdown",
   "id": "a101ba53-962f-4a0e-833f-9297a6a17ffb",
   "metadata": {},
   "source": [
    "### Problem 4\n",
    "\n",
    "#### Question Text\n",
    "\n",
    "*Paste in the question text below.*\n",
    "\n",
    "Assume the variable result, w, x, y, and z are all integers, and that w = 5, x = 4, y = 8, and z = 2.  What value will be stored in result after each of the following statements execute?\n",
    "\n",
    "    a. result = x + y\n",
    "    b. result = z * 2\n",
    "    c. result = y / x\n",
    "    d. result = y - z\n",
    "    e. result = w // z\n",
    "\n",
    "#### High-Level Overview\n",
    "\n",
    "*In two to three sentences at minimum, walk through your general approach to the problem and identify any particular issues you had.*\n",
    "\n",
    "I first initialized the variables to their corresponding values. Then used \"f\" strings to print the result of each calculation. Lastly, I commented the results I anticipated for each letter.\n",
    "\n",
    "[Please double click this cell and update the problem number above, choosing one of the Algorithm Workbench problems from Chapter 2 of your textbook. Then, update the question text. Finally, once you've completed the problem, please replace the high-level overview placeholder text with your own words describing your solution.]"
   ]
  },
  {
   "cell_type": "code",
   "execution_count": 5,
   "id": "8582a675-1d2b-4521-a152-094cca178b01",
   "metadata": {},
   "outputs": [
    {
     "name": "stdout",
     "output_type": "stream",
     "text": [
      "a. result = 12\n",
      "b. result = 4\n",
      "c. result = 2.0\n",
      "d. result = 6\n",
      "e. result = 2\n"
     ]
    }
   ],
   "source": [
    "# add your code to this cell\n",
    "# remember to include comments like this one for every line of code\n",
    "# remember to \"Run cell\" once you're done, excecuting your code so the output is displayed below\n",
    "result, w, x, y, z = 0, 5, 4, 8, 2\n",
    "print(f\"a. result = {x + y}\") # result = 12\n",
    "print(f\"b. result = {z * 2}\") # result = 4\n",
    "print(f\"c. result = {y / x}\") # result = 2.0\n",
    "print(f\"d. result = {y - z}\") # result = 6\n",
    "print(f\"e. result = {w // z}\") # result = 2"
   ]
  },
  {
   "cell_type": "markdown",
   "id": "ab6dd7c7-1299-44e9-9f04-25bb3917ef74",
   "metadata": {},
   "source": [
    "## Programming Exercises"
   ]
  },
  {
   "cell_type": "markdown",
   "id": "a5c1ed18-56f4-447f-9ea9-56f8e175d0de",
   "metadata": {},
   "source": [
    "### Problem 7. Miles-per-Gallon\n",
    "\n",
    "*Paste in the question text below.*\n",
    "\n",
    "A car's miles-per-gallon (MPG) can be calculated with the following formula:\n",
    "\n",
    "MPG = Miles driven / Gallons of gas used\n",
    "\n",
    "Write a program that asks the user for the number of miles driven and the gallons of gas used. It should calculate the car's MPG and display the result.\n",
    "\n",
    "#### High-Level Overview\n",
    "\n",
    "*In two to three sentences at minimum, walk through your general approach to the problem and identify any particular issues you had.*\n",
    "\n",
    "I first started by initializing the variables I would need to 0. Then I prompted the user for the inputs of \"miles driven\" and \"gallons of gas used.\" Next, I calculated the result of \"miles driven\" divided by \"gallons of gas used\" and assigned it to \"mpg.\" Lastly I displayed \"mpg\" for the user.\n",
    "\n",
    "[Please double click this cell and update the problem number above, choosing one of the problems besides number 13 from the Chapter 2 Programming Exercises in your textbook. Then, update the question text. Finally, once you've completed the problem, please replace the high-level overview placeholder text with your own words describing your solution.]"
   ]
  },
  {
   "cell_type": "code",
   "execution_count": 9,
   "id": "b50e962f-3992-4c29-aaca-c626836ac2e9",
   "metadata": {},
   "outputs": [
    {
     "name": "stdin",
     "output_type": "stream",
     "text": [
      "How many miles have you driven? 100\n",
      "How many gallos of gas have you used? 20\n"
     ]
    },
    {
     "name": "stdout",
     "output_type": "stream",
     "text": [
      "MPG:  5.0\n"
     ]
    }
   ],
   "source": [
    "num_of_miles = 0 # initialize miles driven\n",
    "gallons_of_gas_used = 0 # initialize gallons used\n",
    "mpg = 0 # initialize mpg\n",
    "num_of_miles = input(\"How many miles have you driven?\") # prompt user for miles driven\n",
    "gallons_of_gas_used = input(\"How many gallons of gas have you used?\") #prompt user for gas used\n",
    "mpg = float(num_of_miles) / float(gallons_of_gas_used) # calculate mpg\n",
    "print(\"MPG: \", mpg) # display mpgs"
   ]
  },
  {
   "cell_type": "markdown",
   "id": "98f76f9c-a5aa-47a8-9980-c152cc7f12dc",
   "metadata": {},
   "source": [
    "### Problem 13. Planting Grapevines\n",
    "\n",
    "#### Question Text\n",
    "\n",
    "*Paste in the question text below.*\n",
    "\n",
    "A vineyard owner is planting several new rows of grapevines, and needs to know how many grapevines to plant in each row. She has determined that after measuring the length of a future row, she can use the following formula to calculate the number of vines that will fit in the row, along with the trellis end-post assemblies that will need to be constructed at each end of the row:\n",
    "\n",
    "V = (R - 2E) / S\n",
    "\n",
    "The terms in the formula are:                        \n",
    "V is the number of grapevines that will fit in the row.                        \n",
    "R is the length of the row, in feet.                        \n",
    "E is the amount of space, in feet, used by an end-post assembly.                       S is the space between vines, in feet.\n",
    "\n",
    "Write a program that makes the calculation for the vineyard owner. The program should ask the user to input the following:\n",
    "\n",
    "    * The length of the row, in feet\n",
    "    * The amount of space used by an end-post assembly, in feet\n",
    "    * The amount of space between the vines, in feet\n",
    "\n",
    "Once the input data has been entered, the program should calculate and display the number of grapevines that will fit in the row.\n",
    "\n",
    "#### High-Level Overview\n",
    "\n",
    "*In two to three sentences at minimum, walk through your general approach to the problem and identify any particular issues you had.*\n",
    "\n",
    "First I started by initalizing the variables needed for the calculation. Then prompted the user for row length, end-post length, and space between vines. Followed by the calculation where the inputs were first converted to floats from strings. Lastly I displayed the result after converting to a string."
   ]
  },
  {
   "cell_type": "code",
   "execution_count": 11,
   "id": "af57e246-9ed8-4ebd-ab86-4757ea77679e",
   "metadata": {},
   "outputs": [
    {
     "name": "stdin",
     "output_type": "stream",
     "text": [
      "Enter the length of the row in feet: 100\n",
      "Enter the space used by an end-post assembly in feet: 2\n",
      "Enter the amount of space between the vines in feet: 2\n"
     ]
    },
    {
     "name": "stdout",
     "output_type": "stream",
     "text": [
      "Number of grapevines that will fit: 48.0\n"
     ]
    }
   ],
   "source": [
    "# initialize variables\n",
    "num_of_grapevines = 0\n",
    "row = 0\n",
    "end_post = 0\n",
    "space_between = 0\n",
    "\n",
    "row = input(\"Enter the length of the row in feet:\") # prompt user for row length\n",
    "end_post = input(\"Enter the space used by an end-post assembly in feet:\") # prompt user for end-post space\n",
    "space_between = input(\"Enter the amount of space between the vines in feet:\") # prompt user for space between vines\n",
    "num_of_grapevines = (float(row) - 2 * float(end_post)) / float(space_between) # calculate how many grapevines will fit and convert to floats for calculation\n",
    "\n",
    "print(\"Number of grapevines that will fit: \" + str(num_of_grapevines)) # displays result and convert result to str for concatenation"
   ]
  },
  {
   "cell_type": "code",
   "execution_count": null,
   "id": "716a9a29-e73c-4b8b-9bfd-e53b9011b619",
   "metadata": {},
   "outputs": [],
   "source": []
  }
 ],
 "metadata": {
  "kernelspec": {
   "display_name": "Python 3 (ipykernel)",
   "language": "python",
   "name": "python3"
  },
  "language_info": {
   "codemirror_mode": {
    "name": "ipython",
    "version": 3
   },
   "file_extension": ".py",
   "mimetype": "text/x-python",
   "name": "python",
   "nbconvert_exporter": "python",
   "pygments_lexer": "ipython3",
   "version": "3.12.7"
  }
 },
 "nbformat": 4,
 "nbformat_minor": 5
}
