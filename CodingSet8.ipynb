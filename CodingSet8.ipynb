{
 "cells": [
  {
   "cell_type": "markdown",
   "id": "d6c28920-037e-487e-964d-a0bb28244084",
   "metadata": {},
   "source": [
    "# Chapter **8** Coding Set\n",
    "\n",
    "**Remember to save a copy of this template BEFORE YOU START WORKING :)**\n",
    "\n",
    "Work completed by Khamil Totharam.\n",
    "\n",
    "If you start to struggle with a problem for an extended period of time, remember you can go comment on two other submissions now (seeing other student work helps), or you can post in our discussion forum for questions, which can also earn you extra credit."
   ]
  },
  {
   "cell_type": "markdown",
   "id": "929f61d8-1be6-44fc-89de-9b4faf862e8a",
   "metadata": {},
   "source": [
    "## Imports\n",
    "\n",
    "**If your program requires additional modules, external resources, or files, use this cell to set them up**"
   ]
  },
  {
   "cell_type": "code",
   "execution_count": 1,
   "id": "7a762b06-f375-4af6-8fd7-1caaade641f2",
   "metadata": {},
   "outputs": [],
   "source": [
    "# configure your environment\n",
    "\n",
    "# you can uncomment this code to make use of files stored in your Google Drive\n",
    "# from google.colab import drive\n",
    "# drive.mount('/content/drive')\n",
    "\n",
    "# you can uncomment the following line of code to use the pandas library\n",
    "# import pandas as pd"
   ]
  },
  {
   "cell_type": "markdown",
   "id": "9d2fe431-b95b-451d-9065-ece17b15b4fc",
   "metadata": {},
   "source": [
    "## Algorithm Workbench"
   ]
  },
  {
   "cell_type": "markdown",
   "id": "3dc5fb71-0149-4f22-adfb-3578279f3bde",
   "metadata": {},
   "source": [
    "### Problem **2**\n",
    "\n",
    "#### Question Text\n",
    "\n",
    "Write a loop that counts the number of space characters that appear in the string referenced by mystring.\n",
    "\n",
    "#### High-Level Overview\n",
    "\n",
    "First I declared the variables count and mystring and initialized them to 0 and a string respectively. Next, I made a for loop to iterate through the string and increment the count if a space is found. Lastly I displayed the count for testing purposes."
   ]
  },
  {
   "cell_type": "code",
   "execution_count": 12,
   "id": "6f4c69b4-9004-4f21-8520-a300bb5d0871",
   "metadata": {},
   "outputs": [
    {
     "name": "stdout",
     "output_type": "stream",
     "text": [
      "3\n"
     ]
    }
   ],
   "source": [
    "# initialize string and count variables\n",
    "mystring = \"My name is Khamil\"\n",
    "count = 0\n",
    "# loop through characters in mystring\n",
    "for char in mystring:\n",
    "    # if block that increments count if a space is found\n",
    "    if char == \" \":\n",
    "        count += 1\n",
    "# display count\n",
    "print(count)"
   ]
  },
  {
   "cell_type": "markdown",
   "id": "a2c2a00c-7d3b-4326-9c2e-75c800f78dce",
   "metadata": {},
   "source": [
    "### Problem **4**\n",
    "\n",
    "#### Question Text\n",
    "\n",
    "Write a loop that counts the number of lowercase characters that appear in the string referenced by mystring.\n",
    "\n",
    "#### High-Level Overview\n",
    "\n",
    "First I created two variables and initialized them to a string and zero. Then I made a for loop to iterate through the characters in the string. Next I made a if statement inside the loop that would return true if a lowercase letter is found. Lastly I incremented the count when true and displayed the count for clarity."
   ]
  },
  {
   "cell_type": "code",
   "execution_count": 15,
   "id": "d468d9da-929f-4d91-aed9-edbbe31b359e",
   "metadata": {},
   "outputs": [
    {
     "name": "stdout",
     "output_type": "stream",
     "text": [
      "15\n"
     ]
    }
   ],
   "source": [
    "# initialize variables\n",
    "mystring = \"I love programming\"\n",
    "count = 0\n",
    "# loop through string and increment count if a lowercase letter is found\n",
    "for char in mystring:\n",
    "    if char.islower():\n",
    "        count += 1\n",
    "# display count\n",
    "print(count)"
   ]
  },
  {
   "cell_type": "markdown",
   "id": "d56b286c-b49b-46da-8b8a-325eff67d2be",
   "metadata": {},
   "source": [
    "## Programming Exercises"
   ]
  },
  {
   "cell_type": "markdown",
   "id": "fc6d6c06-808b-44d6-bc13-4281fec4c923",
   "metadata": {},
   "source": [
    "### Problem **1**\n",
    "\n",
    "#### Question Text - Initials\n",
    "\n",
    "Write a program that gets a string containing a person’s first, middle, and last names, and displays their first, middle, and last initials. For example, if the user enters John William Smith, the program should display J. W. S.\n",
    "\n",
    "#### High-Level Overview\n",
    "\n",
    "First I prompted the user for their full name and reassigned each part of their name split into a list. Then I made an \"if-elif\" block to assign the first element on the list to \"firstname\" and then so on with their middle/lastname if applicable.\n"
   ]
  },
  {
   "cell_type": "code",
   "execution_count": 26,
   "id": "1e02f618-72c9-4903-8b6e-17e9675d58a6",
   "metadata": {},
   "outputs": [
    {
     "name": "stdin",
     "output_type": "stream",
     "text": [
      "What's your full name?\n",
      " Khamil Totharam\n"
     ]
    },
    {
     "name": "stdout",
     "output_type": "stream",
     "text": [
      "K. T.\n"
     ]
    }
   ],
   "source": [
    "# Prompt user for full name and then split and reassign to string list\n",
    "fullname = input(\"What's your full name?\\n\")\n",
    "fullname = fullname.split()\n",
    "# if-elif block to diplay initials whether user has a middle name or not\n",
    "if len(fullname) == 2:\n",
    "    firstname = fullname[0]\n",
    "    lastname = fullname[1]\n",
    "    print(f\"{firstname[0]}. {lastname[0]}.\")\n",
    "elif len(fullname) == 3:\n",
    "    firstname = fullname[0]\n",
    "    middlename = fullname[1]\n",
    "    lastname = fullname[2]\n",
    "    print(f\"{firstname[0]}. {middlename[0]}. {lastname[0]}.\")"
   ]
  },
  {
   "cell_type": "markdown",
   "id": "ceaea7ca-4ae5-4b47-b0be-e32eee78e666",
   "metadata": {},
   "source": [
    "### Problem **2**\n",
    "\n",
    "#### Question Text - Sum of Digits in a String\n",
    "\n",
    "Write a program that asks the user to enter a series of single-digit numbers with nothing separating them. The program should display the sum of all the single digit numbers in the string. For example, if the user enters 2514, the method should return 12, which is the sum of 2, 5, 1, and 4.\n",
    "\n",
    "#### High-Level Overview\n",
    "\n",
    "First I declared two variables and prompted the user for a number to add up the digits. Next, I made a for loop to iterate through each digit in the string and add them up. Lastly I displayed the resulted sum."
   ]
  },
  {
   "cell_type": "code",
   "execution_count": 11,
   "id": "0716290d-7180-4ece-9702-4537bc7f6493",
   "metadata": {},
   "outputs": [
    {
     "name": "stdin",
     "output_type": "stream",
     "text": [
      "Enter a number to sum:\n",
      " 2514\n"
     ]
    },
    {
     "name": "stdout",
     "output_type": "stream",
     "text": [
      "12\n"
     ]
    }
   ],
   "source": [
    "# initialize variables and prompt user for number to sum\n",
    "number = input(\"Enter a number to sum:\\n\")\n",
    "number_sum = 0\n",
    "# iterate through each digit in number string\n",
    "for num in number:\n",
    "    # add digits and assign to new variable\n",
    "    number_sum += int(num)\n",
    "# display result\n",
    "print(number_sum)"
   ]
  },
  {
   "cell_type": "markdown",
   "id": "b8abae4a-5184-4dc6-8906-cb4d41e031e0",
   "metadata": {},
   "source": [
    "### Problem **3**\n",
    "\n",
    "#### Question Text\n",
    "\n",
    "Write a program that reads a string from the user containing a date in the form mm/dd/yyyy. It should print the date in the format March 12, 2018.\n",
    "\n",
    "#### High-Level Overview\n",
    "\n",
    "First I p"
   ]
  },
  {
   "cell_type": "code",
   "execution_count": 23,
   "id": "c866b286-2b3b-4911-9233-d5f2759e467d",
   "metadata": {},
   "outputs": [
    {
     "name": "stdin",
     "output_type": "stream",
     "text": [
      "Enter a date in the mm/dd/yyyy format. 07/04/1992\n"
     ]
    },
    {
     "name": "stdout",
     "output_type": "stream",
     "text": [
      "July 04, 1992\n"
     ]
    }
   ],
   "source": [
    "# prompt user for a date to convert\n",
    "date = input(\"Enter a date in the mm/dd/yyyy format.\")\n",
    "# split date string by the \"/\" and reassign to date\n",
    "date = date.split(\"/\")\n",
    "# if-elif block to determine month and assign to month\n",
    "if int(date[0]) == 1:\n",
    "    month = \"January\"\n",
    "elif int(date[0]) == 2:\n",
    "    month = \"February\"\n",
    "elif int(date[0]) == 3:\n",
    "    month = \"March\"\n",
    "elif int(date[0]) == 4:\n",
    "    month = \"April\"\n",
    "elif int(date[0]) == 5:\n",
    "    month = \"May\"\n",
    "elif int(date[0]) == 6:\n",
    "    month = \"June\"\n",
    "elif int(date[0]) == 7:\n",
    "    month = \"July\"\n",
    "elif int(date[0]) == 8:\n",
    "    month = \"August\"\n",
    "elif int(date[0]) == 9:\n",
    "    month = \"September\"\n",
    "elif int(date[0]) == 10:\n",
    "    month = \"October\"\n",
    "elif int(date[0]) == 11:\n",
    "    month = \"November\"\n",
    "elif int(date[0]) == 12:\n",
    "    month = \"December\"\n",
    "# display output\n",
    "print(f\"{month} {date[1]}, {date[2]}\")"
   ]
  },
  {
   "cell_type": "markdown",
   "id": "b028d9e9-f9f3-4a64-aebb-a1fc22066c15",
   "metadata": {},
   "source": [
    "### Problem **?**\n",
    "\n",
    "#### Question Text\n",
    "\n",
    "*Paste in the question text below.*\n",
    "\n",
    "#### High-Level Overview\n",
    "\n",
    "*In two to three sentences at minimum, walk through your general approach to the problem and identify any particular issues you had.*\n"
   ]
  },
  {
   "cell_type": "code",
   "execution_count": 7,
   "id": "584816d2-386c-4ed2-ae03-015d3efc285b",
   "metadata": {},
   "outputs": [],
   "source": [
    "# add your code to this cell\n",
    "# remember to include comments like this one for most of your code\n",
    "# remember to \"Run cell\" once you're done, excecuting your code so the output is displayed below"
   ]
  },
  {
   "cell_type": "markdown",
   "id": "0bac66ba-0fae-4825-a564-cdd1bef3ec3a",
   "metadata": {},
   "source": [
    "## Helpful Checks\n",
    "\n",
    "1.   Did you comment every line of code with meaningful information that will help others reading your code?\n",
    "2.   Did you use appropriate names for your variables, functions, and/or classes?\n",
    "3.   Did you include a high-level explanation for each solution?\n",
    "4.   Did you run each cell that includes a final solution so the output is saved and easily viewed by others?\n",
    "5.   Are you sharing an editable link (i.e., Share > Anyone with the link > Editor) if using Colaboratory, or did you make more than ten commits if using GitHub?\n",
    "6.   Did you remember to comment on the submissions of two other students?"
   ]
  },
  {
   "cell_type": "code",
   "execution_count": null,
   "id": "32c01e46-57f2-49fb-9e38-33d0059c87c3",
   "metadata": {},
   "outputs": [],
   "source": []
  }
 ],
 "metadata": {
  "kernelspec": {
   "display_name": "Python 3 (ipykernel)",
   "language": "python",
   "name": "python3"
  },
  "language_info": {
   "codemirror_mode": {
    "name": "ipython",
    "version": 3
   },
   "file_extension": ".py",
   "mimetype": "text/x-python",
   "name": "python",
   "nbconvert_exporter": "python",
   "pygments_lexer": "ipython3",
   "version": "3.12.7"
  }
 },
 "nbformat": 4,
 "nbformat_minor": 5
}
