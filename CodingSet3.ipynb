{
 "cells": [
  {
   "cell_type": "markdown",
   "id": "0b0979ed-005d-419a-b125-4aa6b5849b5c",
   "metadata": {},
   "source": [
    "# Chapter **?** Coding Set\n",
    "\n",
    "**Remember to save a copy of this template BEFORE YOU START WORKING :)**\n",
    "\n",
    "Work completed by Khamil Totharam.\n"
   ]
  },
  {
   "cell_type": "markdown",
   "id": "8826f522-b849-4588-9b57-658515c02ae5",
   "metadata": {},
   "source": [
    "## Imports\n",
    "\n",
    "**If your program requires additional modules, external resources, or files, use this cell to set them up**"
   ]
  },
  {
   "cell_type": "code",
   "execution_count": 1,
   "id": "b0c661dc-2fe3-430b-97c4-0556495a2556",
   "metadata": {},
   "outputs": [],
   "source": [
    "# configure your environment\n",
    "\n",
    "# you can uncomment this code to make use of files stored in your Google Drive\n",
    "# from google.colab import drive\n",
    "# drive.mount('/content/drive')\n",
    "\n",
    "# you can uncomment the following line of code to use the pandas library\n",
    "import pandas as pd"
   ]
  },
  {
   "cell_type": "markdown",
   "id": "d107420c-362c-4b58-a163-dc7514a566ea",
   "metadata": {},
   "source": [
    "## Algorithm Workbench"
   ]
  },
  {
   "cell_type": "markdown",
   "id": "e691c865-c6f4-4574-9efd-c2a7efcf64cc",
   "metadata": {},
   "source": [
    "### Problem **4**\n",
    "\n",
    "#### Question Text\n",
    "\n",
    "The following code contains several nested  statements. Unfortunately, it was written without proper alignment and indentation. Rewrite the code and use the proper conventions of alignment and indentation.\n",
    "\n",
    "if score >= A_score:\n",
    "print('Your grade is A.\")\n",
    "else:\n",
    "if score >= B_score:\n",
    "print('Your grade is B.')\n",
    "else:\n",
    "if score >= C_score:\n",
    "print('Your grade is C.')\n",
    "else:\n",
    "if score >= D_score:\n",
    "print('Your grade is D.')\n",
    "else:\n",
    "print('Your grade is F.')\n",
    "\n",
    "#### High-Level Overview\n",
    "\n",
    "*In two to three sentences at minimum, walk through your general approach to the problem and identify any particular issues you had.*\\\n",
    "\n",
    "First I initialized the scores to their respective values in order to check in the following if-elif-else block. Then I declared the score variable and set it to a value desired to check. Lastly I created the if-elif-else block from page 172 for checking the \"score\" variable."
   ]
  },
  {
   "cell_type": "code",
   "execution_count": 7,
   "id": "5c2cdd1c-fb19-448f-a2cf-571da572f469",
   "metadata": {},
   "outputs": [
    {
     "name": "stdout",
     "output_type": "stream",
     "text": [
      "Your grade is A.\n"
     ]
    }
   ],
   "source": [
    "A_score = 90 # Initialize \"A\" score\n",
    "B_score = 80 # Initialize \"B\" score\n",
    "C_score = 70 # Initialize \"C\" score\n",
    "D_score = 60 # Initialize \"D\" score\n",
    "\n",
    "score = 95 # Desired score to check\n",
    "\n",
    "# if-elif-else block from pg. 172 in textbook\n",
    "if score >= A_score:\n",
    "    print('Your grade is A.')\n",
    "elif score >= B_score:\n",
    "    print('Your grade is B.')\n",
    "elif score >= C_score:\n",
    "    print('Your grade is C.')\n",
    "elif score >= D_score:\n",
    "    print('Your grade is D.')\n",
    "else:\n",
    "    print('Your grade is F.')"
   ]
  },
  {
   "cell_type": "code",
   "execution_count": null,
   "id": "8e6f3538-7adb-4f94-9add-4e16e0361ad1",
   "metadata": {},
   "outputs": [],
   "source": []
  }
 ],
 "metadata": {
  "kernelspec": {
   "display_name": "Python 3 (ipykernel)",
   "language": "python",
   "name": "python3"
  },
  "language_info": {
   "codemirror_mode": {
    "name": "ipython",
    "version": 3
   },
   "file_extension": ".py",
   "mimetype": "text/x-python",
   "name": "python",
   "nbconvert_exporter": "python",
   "pygments_lexer": "ipython3",
   "version": "3.12.7"
  }
 },
 "nbformat": 4,
 "nbformat_minor": 5
}
