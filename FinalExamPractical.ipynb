{
 "cells": [
  {
   "cell_type": "code",
   "execution_count": 47,
   "id": "d3409050-29e9-4e7e-bd14-2ff8e872b6d8",
   "metadata": {},
   "outputs": [
    {
     "name": "stdout",
     "output_type": "stream",
     "text": [
      "20\n"
     ]
    }
   ],
   "source": [
    "# define glasses superclass\n",
    "class Glasses:\n",
    "    # initialize variables\n",
    "    def __init__(self, color, price, prescription):\n",
    "        self.__color = color\n",
    "        self.__price = price\n",
    "        self.__prescription = prescription\n",
    "    # define setter\n",
    "    def set_price(self, price):\n",
    "        self.__price = price\n",
    "    # define setter\n",
    "    def set_prescription(self, prescription):\n",
    "        self.__prescription = prescription\n",
    "    # define getter\n",
    "    def get_price(self):\n",
    "        return self.__price\n",
    "    # define getter\n",
    "    def get_prescription(self):\n",
    "        return self.__prescription\n",
    "    # define str print method\n",
    "    def __str__(self):\n",
    "        return f\"color: {self.__color}, price: {self.__price}, prescription: {self.__prescription}\"\n",
    "# define Bifocals subclass\n",
    "class Bifocals(Glasses):\n",
    "    # initialize variables\n",
    "    def __init__(self, color, price, prescription, reading_prescription):\n",
    "        super().__init__(price, prescription, reading_prescription)\n",
    "        self.__reading_prescription = reading_prescription\n",
    "    # define setter\n",
    "    def set_reading_prescription(self, reading_prescription):\n",
    "        self.__reading_prescription = reading_prescription\n",
    "    # define getter\n",
    "    def get_reading_prescription(self):\n",
    "        return self.__reading_prescription\n",
    "    #  define str print method\n",
    "    def __str__(self):\n",
    "        return f\"color: {self.__color}, price: {self.__price}, prescription: {self.__prescription}, reading_prescription: {self.__reading_prescription}\"\n",
    "# define main\n",
    "def main():\n",
    "    # create variables and assign\n",
    "    color = \"black\"\n",
    "    price = 100\n",
    "    prescription = -7\n",
    "    reading_prescription = 20\n",
    "    # instance classes\n",
    "    glasses = Glasses(color, price, prescription)\n",
    "    reading_glasses = Bifocals(color, price, prescription, reading_prescription)\n",
    "    # test subclass function\n",
    "    print(reading_glasses.get_reading_prescription())\n",
    "# call main\n",
    "if __name__ == \"__main__\":\n",
    "    main()"
   ]
  },
  {
   "cell_type": "code",
   "execution_count": null,
   "id": "016f24c0-dfd3-4a8b-9804-a27a6c8374ae",
   "metadata": {},
   "outputs": [],
   "source": []
  }
 ],
 "metadata": {
  "kernelspec": {
   "display_name": "Python 3 (ipykernel)",
   "language": "python",
   "name": "python3"
  },
  "language_info": {
   "codemirror_mode": {
    "name": "ipython",
    "version": 3
   },
   "file_extension": ".py",
   "mimetype": "text/x-python",
   "name": "python",
   "nbconvert_exporter": "python",
   "pygments_lexer": "ipython3",
   "version": "3.12.7"
  }
 },
 "nbformat": 4,
 "nbformat_minor": 5
}
