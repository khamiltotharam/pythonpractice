{
 "cells": [
  {
   "cell_type": "markdown",
   "id": "c36ae7d2-e84d-4791-9833-9df186a36089",
   "metadata": {},
   "source": [
    "# Chapter **5** Coding Set\n",
    "\n",
    "Work completed by Khamil Totharam.\n",
    "\n",
    "If you start to struggle with a problem for an extended period of time, remember you can go comment on two other submissions now (seeing other student work helps), or you can post in our discussion forum for questions, which can also earn you extra credit."
   ]
  },
  {
   "cell_type": "markdown",
   "id": "bb173b28-bd51-45c5-952f-bd5905473d4c",
   "metadata": {},
   "source": [
    "## Imports\n",
    "\n",
    "**If your program requires additional modules, external resources, or files, use this cell to set them up**"
   ]
  },
  {
   "cell_type": "code",
   "execution_count": 1,
   "id": "735cf7a5-3c13-4b51-aefb-51db66a622d4",
   "metadata": {},
   "outputs": [],
   "source": [
    "# configure your environment\n",
    "\n",
    "# you can uncomment this code to make use of files stored in your Google Drive\n",
    "# from google.colab import drive\n",
    "# drive.mount('/content/drive')\n",
    "\n",
    "# you can uncomment the following line of code to use the pandas library\n",
    "import pandas as pd"
   ]
  },
  {
   "cell_type": "markdown",
   "id": "b28ea052-3368-40e7-a521-4631621ffcf9",
   "metadata": {},
   "source": [
    "## Algorithm Workbench"
   ]
  },
  {
   "cell_type": "markdown",
   "id": "851a54bf-80d0-4f21-bbc2-2389ad615789",
   "metadata": {},
   "source": [
    "### Problem **?**\n",
    "\n",
    "#### Question Text\n",
    "\n",
    "*Paste in the question text below.*\n",
    "\n",
    "#### High-Level Overview\n",
    "\n",
    "*In two to three sentences at minimum, walk through your general approach to the problem and identify any particular issues you had.*"
   ]
  },
  {
   "cell_type": "code",
   "execution_count": 2,
   "id": "189e747d-805f-4625-bc95-3bff31f89998",
   "metadata": {},
   "outputs": [],
   "source": [
    "# add your code to this cell\n",
    "# remember to include comments like this one for most of your code\n",
    "# remember to \"Run cell\" once you're done, excecuting your code so the output is displayed below"
   ]
  },
  {
   "cell_type": "markdown",
   "id": "9492d3f5-6fb6-4d7c-a87d-5246dd5ef06b",
   "metadata": {},
   "source": [
    "### Problem **6**\n",
    "\n",
    "#### Question Text\n",
    "\n",
    "Write a statement that generates a random number in the range of 1 through 100 and assigns it to a variable named rand.\n",
    "\n",
    "#### High-Level Overview\n",
    "\n",
    "*In two to three sentences at minimum, walk through your general approach to the problem and identify any particular issues you had.*\n",
    "\n",
    "First I imported the random module. Then I created a function that is named main and generates a random number between 1 and 100. Next displayed the number generated. Finally I called the function then end the program."
   ]
  },
  {
   "cell_type": "code",
   "execution_count": 2,
   "id": "d3e976ba-27fe-4374-9377-0e8d23b721ad",
   "metadata": {},
   "outputs": [
    {
     "name": "stdout",
     "output_type": "stream",
     "text": [
      "The number is 94\n"
     ]
    }
   ],
   "source": [
    "# import random module\n",
    "import random\n",
    "\n",
    "# declare function main with no arguments\n",
    "def main():\n",
    "    # create variable and set parameters for generation between 1 and 100\n",
    "    rand = random.randint(1, 100)\n",
    "    # display the output\n",
    "    print(f\"The number is {rand}\")\n",
    "\n",
    "# call function\n",
    "main()"
   ]
  },
  {
   "cell_type": "markdown",
   "id": "9cad1c2c-aad3-4bbe-b5b4-030da166d9a5",
   "metadata": {},
   "source": [
    "## Programming Exercises"
   ]
  },
  {
   "cell_type": "markdown",
   "id": "00669415-1ade-484a-93cf-7c1ea39571bc",
   "metadata": {},
   "source": [
    "### Problem **?**\n",
    "\n",
    "#### Question Text\n",
    "\n",
    "*Paste in the question text below.*\n",
    "\n",
    "#### High-Level Overview\n",
    "\n",
    "*In two to three sentences at minimum, walk through your general approach to the problem and identify any particular issues you had.*"
   ]
  },
  {
   "cell_type": "code",
   "execution_count": 4,
   "id": "3aa790fe-81dd-41eb-a238-18336b823559",
   "metadata": {},
   "outputs": [],
   "source": [
    "# add your code to this cell\n",
    "# remember to include comments like this one for most of your code\n",
    "# remember to \"Run cell\" once you're done, excecuting your code so the output is displayed below"
   ]
  },
  {
   "cell_type": "markdown",
   "id": "c782f6b6-f3f6-424a-acde-10036ddee0c8",
   "metadata": {},
   "source": [
    "### Problem **?**\n",
    "\n",
    "#### Question Text\n",
    "\n",
    "*Paste in the question text below.*\n",
    "\n",
    "#### High-Level Overview\n",
    "\n",
    "*In two to three sentences at minimum, walk through your general approach to the problem and identify any particular issues you had.*"
   ]
  },
  {
   "cell_type": "code",
   "execution_count": 5,
   "id": "13df99d5-2c8f-417d-a2df-47f24bb6f5ea",
   "metadata": {},
   "outputs": [],
   "source": [
    "# add your code to this cell\n",
    "# remember to include comments like this one for most of your code\n",
    "# remember to \"Run cell\" once you're done, excecuting your code so the output is displayed below"
   ]
  },
  {
   "cell_type": "markdown",
   "id": "05183837-3182-4850-ba52-2f6b4b28c475",
   "metadata": {},
   "source": [
    "### Problem **?**\n",
    "\n",
    "#### Question Text\n",
    "\n",
    "*Paste in the question text below.*\n",
    "\n",
    "#### High-Level Overview\n",
    "\n",
    "*In two to three sentences at minimum, walk through your general approach to the problem and identify any particular issues you had.*"
   ]
  },
  {
   "cell_type": "code",
   "execution_count": 6,
   "id": "5db0fc2a-3d18-4695-a20b-d6f1ea825b65",
   "metadata": {},
   "outputs": [],
   "source": [
    "# add your code to this cell\n",
    "# remember to include comments like this one for most of your code\n",
    "# remember to \"Run cell\" once you're done, excecuting your code so the output is displayed below"
   ]
  },
  {
   "cell_type": "markdown",
   "id": "23468586-8cf8-42e5-86aa-ad116256ab00",
   "metadata": {},
   "source": [
    "### Problem **?**\n",
    "\n",
    "#### Question Text\n",
    "\n",
    "*Paste in the question text below.*\n",
    "\n",
    "#### High-Level Overview\n",
    "\n",
    "*In two to three sentences at minimum, walk through your general approach to the problem and identify any particular issues you had.*\n"
   ]
  },
  {
   "cell_type": "code",
   "execution_count": 7,
   "id": "4cb9bedf-548a-4e52-9f92-056e1fc7cec8",
   "metadata": {},
   "outputs": [],
   "source": [
    "# add your code to this cell\n",
    "# remember to include comments like this one for most of your code\n",
    "# remember to \"Run cell\" once you're done, excecuting your code so the output is displayed below"
   ]
  },
  {
   "cell_type": "markdown",
   "id": "0675218d-07ac-4cf6-ae31-678a3f869541",
   "metadata": {},
   "source": [
    "## Helpful Checks\n",
    "\n",
    "1.   Did you comment every line of code with meaningful information that will help others reading your code?\n",
    "2.   Did you use appropriate names for your variables, functions, and/or classes?\n",
    "3.   Did you include a high-level explanation for each solution?\n",
    "4.   Did you run each cell that includes a final solution so the output is saved and easily viewed by others?\n",
    "5.   Are you sharing an editable link (i.e., Share > Anyone with the link > Editor) if using Colaboratory, or did you make more than ten commits if using GitHub?\n",
    "6.   Did you remember to comment on the submissions of two other students?"
   ]
  },
  {
   "cell_type": "code",
   "execution_count": null,
   "id": "0afea68c-cc88-4849-859b-8ceaaa15be8e",
   "metadata": {},
   "outputs": [],
   "source": []
  }
 ],
 "metadata": {
  "kernelspec": {
   "display_name": "Python 3 (ipykernel)",
   "language": "python",
   "name": "python3"
  },
  "language_info": {
   "codemirror_mode": {
    "name": "ipython",
    "version": 3
   },
   "file_extension": ".py",
   "mimetype": "text/x-python",
   "name": "python",
   "nbconvert_exporter": "python",
   "pygments_lexer": "ipython3",
   "version": "3.12.7"
  }
 },
 "nbformat": 4,
 "nbformat_minor": 5
}
