{
 "cells": [
  {
   "cell_type": "markdown",
   "id": "c36ae7d2-e84d-4791-9833-9df186a36089",
   "metadata": {},
   "source": [
    "# Chapter **5** Coding Set\n",
    "\n",
    "Work completed by Khamil Totharam.\n",
    "\n",
    "If you start to struggle with a problem for an extended period of time, remember you can go comment on two other submissions now (seeing other student work helps), or you can post in our discussion forum for questions, which can also earn you extra credit."
   ]
  },
  {
   "cell_type": "markdown",
   "id": "bb173b28-bd51-45c5-952f-bd5905473d4c",
   "metadata": {},
   "source": [
    "## Imports\n",
    "\n",
    "**If your program requires additional modules, external resources, or files, use this cell to set them up**"
   ]
  },
  {
   "cell_type": "code",
   "execution_count": 1,
   "id": "735cf7a5-3c13-4b51-aefb-51db66a622d4",
   "metadata": {},
   "outputs": [],
   "source": [
    "# configure your environment\n",
    "\n",
    "# you can uncomment this code to make use of files stored in your Google Drive\n",
    "# from google.colab import drive\n",
    "# drive.mount('/content/drive')\n",
    "\n",
    "# you can uncomment the following line of code to use the pandas library\n",
    "import pandas as pd"
   ]
  },
  {
   "cell_type": "markdown",
   "id": "b28ea052-3368-40e7-a521-4631621ffcf9",
   "metadata": {},
   "source": [
    "## Algorithm Workbench"
   ]
  },
  {
   "cell_type": "markdown",
   "id": "851a54bf-80d0-4f21-bbc2-2389ad615789",
   "metadata": {},
   "source": [
    "### Problem **9**\n",
    "\n",
    "#### Question Text\n",
    "\n",
    "Write a function named times_ten that accepts a number as an argument. When the function is called, it should return the value of its argument multiplied times 10.\n",
    "\n",
    "#### High-Level Overview\n",
    "\n",
    "*In two to three sentences at minimum, walk through your general approach to the problem and identify any particular issues you had.*\n",
    "\n",
    "First I created the function and parameters needed. Then, I displayed the result of the parameter multiplied by 10. Lastly, I called the function and passed the argument to be multiplied."
   ]
  },
  {
   "cell_type": "code",
   "execution_count": 10,
   "id": "189e747d-805f-4625-bc95-3bff31f89998",
   "metadata": {},
   "outputs": [
    {
     "name": "stdout",
     "output_type": "stream",
     "text": [
      "74.0\n",
      "\n"
     ]
    }
   ],
   "source": [
    "# create function and parameter\n",
    "def times_ten(number):\n",
    "    # display number multiplied by 10\n",
    "    print(f\"{number * 10}\\n\")\n",
    "\n",
    "# call function and pass argument\n",
    "times_ten(7.4)"
   ]
  },
  {
   "cell_type": "markdown",
   "id": "9492d3f5-6fb6-4d7c-a87d-5246dd5ef06b",
   "metadata": {},
   "source": [
    "### Problem **6**\n",
    "\n",
    "#### Question Text\n",
    "\n",
    "Write a statement that generates a random number in the range of 1 through 100 and assigns it to a variable named rand.\n",
    "\n",
    "#### High-Level Overview\n",
    "\n",
    "*In two to three sentences at minimum, walk through your general approach to the problem and identify any particular issues you had.*\n",
    "\n",
    "First I imported the random module. Then I created a function that is named main and generates a random number between 1 and 100. Next displayed the number generated. Finally I called the function then end the program."
   ]
  },
  {
   "cell_type": "code",
   "execution_count": 5,
   "id": "d3e976ba-27fe-4374-9377-0e8d23b721ad",
   "metadata": {},
   "outputs": [
    {
     "name": "stdout",
     "output_type": "stream",
     "text": [
      "The number is 73\n"
     ]
    }
   ],
   "source": [
    "# import random module\n",
    "import random\n",
    "\n",
    "# declare function main with no parameters\n",
    "def main():\n",
    "    # create variable and set arguments for generation between 1 and 100\n",
    "    rand = random.randint(1, 100)\n",
    "    # display the output\n",
    "    print(f\"The number is {rand}\")\n",
    "\n",
    "# calling the main function for program to execute\n",
    "if __name__  == \"__main__\":\n",
    "    main()"
   ]
  },
  {
   "cell_type": "markdown",
   "id": "9cad1c2c-aad3-4bbe-b5b4-030da166d9a5",
   "metadata": {},
   "source": [
    "## Programming Exercises"
   ]
  },
  {
   "attachments": {
    "581f3cec-5a17-463b-bb3d-b12af324850f.png": {
     "image/png": "[encoded data removed]"
    }
   },
   "cell_type": "markdown",
   "id": "00669415-1ade-484a-93cf-7c1ea39571bc",
   "metadata": {},
   "source": [
    "### Problem **1**\n",
    "\n",
    "#### Question Text - Kilometer Converter\n",
    "\n",
    "Write a program that asks the user to enter a distance in kilometers, then uses a function to convert that distance to miles. The conversion formula is as follows: \n",
    "\n",
    "![image.png](attachment:581f3cec-5a17-463b-bb3d-b12af324850f.png)\n",
    "\n",
    "#### High-Level Overview\n",
    "\n",
    "*In two to three sentences at minimum, walk through your general approach to the problem and identify any particular issues you had.*\\\n",
    "\n",
    "First I prompted the user using the whalrus while loop to disregard negative and zero inputs and saved to a variable for later in the program. Then, I created a function with one parameter where it would return the product of the arugment passed to convert into miles using the formula provided in the question. Lastly, I displayed and called the function using a f-string."
   ]
  },
  {
   "cell_type": "code",
   "execution_count": 18,
   "id": "3aa790fe-81dd-41eb-a238-18336b823559",
   "metadata": {},
   "outputs": [
    {
     "name": "stdin",
     "output_type": "stream",
     "text": [
      "Enter the distance in kilometers: \n",
      " -500\n"
     ]
    },
    {
     "name": "stdout",
     "output_type": "stream",
     "text": [
      "Enter a nonnegative/nonzero number to convert to miles... \n",
      "\n"
     ]
    },
    {
     "name": "stdin",
     "output_type": "stream",
     "text": [
      "Enter the distance in kilometers: \n",
      " 1000\n"
     ]
    },
    {
     "name": "stdout",
     "output_type": "stream",
     "text": [
      "The distance in miles:\n",
      "621.4\n"
     ]
    }
   ],
   "source": [
    "# prompt user for a number (km) to convert into miles disregarding negative and zero inputs\n",
    "while (km := float(input(\"Enter the distance in kilometers: \\n\"))) <= 0:\n",
    "    print(\"Enter a nonnegative/nonzero number to convert to miles... \\n\")\n",
    "\n",
    "# define function and parameter\n",
    "def convert_to_miles(km):\n",
    "    # return the miles converted\n",
    "    return km * 0.6214 \n",
    "\n",
    "# display the and call the function\n",
    "print(f\"The distance in miles:\\n{convert_to_miles(km)}\")"
   ]
  },
  {
   "cell_type": "markdown",
   "id": "c782f6b6-f3f6-424a-acde-10036ddee0c8",
   "metadata": {},
   "source": [
    "### Problem **16**\n",
    "\n",
    "#### Question Text - Prime Numbers\n",
    "\n",
    "A prime number is a number that is only evenly divisible by itself and 1. For example, the number 5 is prime because it can only be evenly divided by 1 and 5. The number 6, however, is not prime because it can be divided evenly by 1, 2, 3, and 6.\n",
    "\n",
    "Write a Boolean function named  which takes an integer as an argument and returns true if the argument is a prime number, or false otherwise. Use the function in a program that prompts the user to enter a number then displays a message indicating whether the number is prime.\n",
    "\n",
    "#### High-Level Overview\n",
    "\n",
    "*In two to three sentences at minimum, walk through your general approach to the problem and identify any particular issues you had.*\n",
    "\n",
    "Watching the video really helped with this problem to start off with. First I imported the math module to use later. Then, I defined a function with one parameter where it iterates through set of checkpoints if the input is prime. The function returns False for not prime numbers and True when prime. Next, I defined the main function and prompted the user for an input disregarding one and negative numbers as not prime then prompting the user again until satisfied. I then called the is_prime function. Lastly, I made an if/else block where I displayed the results and finally called the main function for the program to execute."
   ]
  },
  {
   "cell_type": "code",
   "execution_count": 13,
   "id": "13df99d5-2c8f-417d-a2df-47f24bb6f5ea",
   "metadata": {},
   "outputs": [
    {
     "name": "stdin",
     "output_type": "stream",
     "text": [
      "Please enter a number to test and we will tell you if it is a prime number:  7\n"
     ]
    },
    {
     "name": "stdout",
     "output_type": "stream",
     "text": [
      "The number 7 is a prime number!\n"
     ]
    }
   ],
   "source": [
    "# import math module for sqrt\n",
    "import math\n",
    "\n",
    "# define function with one parameter being the number to be analyzed\n",
    "def is_prime(num):\n",
    "    # handle 1, 0 and negative numbers are not prime\n",
    "    if num <= 1:\n",
    "        return False\n",
    "    # handle 2 as prime\n",
    "    elif num == 2:\n",
    "        return True\n",
    "    # handle even numbers as not prime\n",
    "    elif num % 2 == 0:\n",
    "        return False\n",
    "    else:\n",
    "        # Check for divisibility from 3 up to the square root of the number.\n",
    "        # We only need to check odd numbers since we already handled even numbers.\n",
    "        # The loop increments by 2 to check only odd divisors.\n",
    "        for i in range(3, int(math.sqrt(num)) + 1, 2):\n",
    "            if num % i == 0:\n",
    "                return False\n",
    "        # returns True num is prime\n",
    "        return True\n",
    "\n",
    "# define main function\n",
    "def main():\n",
    "    # Main function to prompt the user for input and display whether\n",
    "    # the entered number is prime using the is_prime function.\n",
    "    number = int(input(\"Please enter a number to test and we will tell you if it is a prime number: \"))\n",
    "    # call function is_prime\n",
    "    prime_result = is_prime(number)\n",
    "    #  Boolean result is checked prime when True and NOT prime when False\n",
    "    if prime_result:\n",
    "        print(f\"The number {number} is a prime number!\")\n",
    "    else:\n",
    "        print(f\"The number {number} is NOT a prime number...\")\n",
    "\n",
    "# calling the main function for program to execute\n",
    "if __name__  == \"__main__\":\n",
    "    main()"
   ]
  },
  {
   "cell_type": "markdown",
   "id": "05183837-3182-4850-ba52-2f6b4b28c475",
   "metadata": {},
   "source": [
    "### Problem **17**\n",
    "\n",
    "#### Question Text\n",
    "\n",
    "This exercise assumes that you have already written the is_prime function in Programming Exercise 16. Write another program that displays all of the prime numbers from 1 to 100. The program should have a loop that calls the is_prime function.\n",
    "\n",
    "#### High-Level Overview\n",
    "\n",
    "*In two to three sentences at minimum, walk through your general approach to the problem and identify any particular issues you had.*\n",
    "\n",
    "First I set up a loop to review numbers from one to one hundred.  Then I called the function in a single if statement. Lastly, I printed the results using a f-string."
   ]
  },
  {
   "cell_type": "code",
   "execution_count": 10,
   "id": "5db0fc2a-3d18-4695-a20b-d6f1ea825b65",
   "metadata": {},
   "outputs": [
    {
     "name": "stdout",
     "output_type": "stream",
     "text": [
      "2 3 5 7 11 13 17 19 23 29 31 37 41 43 47 53 59 61 67 71 73 79 83 89 97 "
     ]
    }
   ],
   "source": [
    "# loop through desired numbers to check\n",
    "for i in range(1, 100):\n",
    "    # call function\n",
    "    if is_prime(i):\n",
    "        # display results separated by a space\n",
    "        print(f\"{i} \", end = \"\")"
   ]
  },
  {
   "cell_type": "markdown",
   "id": "23468586-8cf8-42e5-86aa-ad116256ab00",
   "metadata": {},
   "source": [
    "### Problem **?**\n",
    "\n",
    "#### Question Text\n",
    "\n",
    "*Paste in the question text below.*\n",
    "\n",
    "#### High-Level Overview\n",
    "\n",
    "*In two to three sentences at minimum, walk through your general approach to the problem and identify any particular issues you had.*\n"
   ]
  },
  {
   "cell_type": "code",
   "execution_count": 7,
   "id": "4cb9bedf-548a-4e52-9f92-056e1fc7cec8",
   "metadata": {},
   "outputs": [],
   "source": [
    "# add your code to this cell\n",
    "# remember to include comments like this one for most of your code\n",
    "# remember to \"Run cell\" once you're done, excecuting your code so the output is displayed below"
   ]
  },
  {
   "cell_type": "markdown",
   "id": "0675218d-07ac-4cf6-ae31-678a3f869541",
   "metadata": {},
   "source": [
    "## Helpful Checks\n",
    "\n",
    "1.   Did you comment every line of code with meaningful information that will help others reading your code?\n",
    "2.   Did you use appropriate names for your variables, functions, and/or classes?\n",
    "3.   Did you include a high-level explanation for each solution?\n",
    "4.   Did you run each cell that includes a final solution so the output is saved and easily viewed by others?\n",
    "5.   Are you sharing an editable link (i.e., Share > Anyone with the link > Editor) if using Colaboratory, or did you make more than ten commits if using GitHub?\n",
    "6.   Did you remember to comment on the submissions of two other students?"
   ]
  },
  {
   "cell_type": "code",
   "execution_count": null,
   "id": "0afea68c-cc88-4849-859b-8ceaaa15be8e",
   "metadata": {},
   "outputs": [],
   "source": []
  }
 ],
 "metadata": {
  "kernelspec": {
   "display_name": "Python 3 (ipykernel)",
   "language": "python",
   "name": "python3"
  },
  "language_info": {
   "codemirror_mode": {
    "name": "ipython",
    "version": 3
   },
   "file_extension": ".py",
   "mimetype": "text/x-python",
   "name": "python",
   "nbconvert_exporter": "python",
   "pygments_lexer": "ipython3",
   "version": "3.12.7"
  }
 },
 "nbformat": 4,
 "nbformat_minor": 5
}
