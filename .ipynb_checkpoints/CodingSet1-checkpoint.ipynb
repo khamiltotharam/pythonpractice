{
 "cells": [
  {
   "cell_type": "markdown",
   "id": "96fcd085-b06b-40a8-95a3-a7b3a9a44f80",
   "metadata": {},
   "source": [
    "# Coding Set 1\n",
    "Work completed by Khamil Totharam."
   ]
  },
  {
   "cell_type": "markdown",
   "id": "69bb5aea-4d90-482a-821a-7f181c8c9e02",
   "metadata": {},
   "source": [
    "### Problem A (Not in texbook)\n",
    "\n",
    "#### Question Text\n",
    "\n",
    "Try entering the following code in the cell below and then press SHIFT + ENTER -or- click the \"Run cell\" button:\n",
    "\n",
    "```\n",
    "print('This is a test of running Python code within a notebook.')\n",
    "```\n",
    "\n",
    "#### High-Level Overview\n",
    "\n",
    "I copied the python code and pasted it in the cell below.  This wasn't very hard to accomplish."
   ]
  },
  {
   "cell_type": "code",
   "execution_count": 1,
   "id": "43921f9f-1c4b-4aa7-b322-aee551a1b1a6",
   "metadata": {},
   "outputs": [
    {
     "name": "stdout",
     "output_type": "stream",
     "text": [
      "This is a test of running Python code within a notebook.\n"
     ]
    }
   ],
   "source": [
    "# this is a simple test of the print function.\n",
    "print('This is a test of running Python code within a notebook.')"
   ]
  },
  {
   "cell_type": "markdown",
   "id": "86d6a509-d5ea-44fc-b811-b4e151e021fd",
   "metadata": {},
   "source": [
    "### Problem 3\n",
    "\n",
    "#### Question Text\n",
    "\n",
    "Use what you've learned about the binary numbering system in this chapter to convert by hand (i.e., no Python) the following decimal numbers to binary. Make sure you show all your work to find your answers.\n",
    "\n",
    "```\n",
    " 11\n",
    " 65\n",
    "100\n",
    "255\n",
    "```\n",
    "\n",
    "#### High-Level Overview\n",
    "\n",
    "I started by labeling the powers of 2 and the results below.  Then I added the results to each other so they equal the designated amount.  I then put the binary next to the decimal numbers for clarity."
   ]
  },
  {
   "cell_type": "code",
   "execution_count": 15,
   "id": "7fcfeb94-72a6-4b9b-a11f-030dea906c68",
   "metadata": {},
   "outputs": [
    {
     "name": "stdout",
     "output_type": "stream",
     "text": [
      "11 to binary: \n",
      "2^4, 2^3, 2^2, 2^1, 2^0\n",
      " 16,   8,   4,   2,   1\n",
      "  0,   1,   0,   1,   1\n",
      "1011 is the binary solution.\n",
      "\n",
      "65 to binary: \n",
      "2^6, 2^5, 2^4, 2^3, 2^2, 2^1, 2^0\n",
      " 64,  32,  16,   8,   4,   2,   1\n",
      "  1,   0,   0,   0,   0,   0,   1\n",
      "1000001 is the binary solution.\n",
      "\n",
      "100 to binary: \n",
      "2^6, 2^5, 2^4, 2^3, 2^2, 2^1, 2^0\n",
      " 64,  32,  16,   8,   4,   2,   1\n",
      "  1,   1,   0,   0,   1,   0,   0\n",
      "1100100 is the binary solution.\n",
      "\n",
      "255 to binary: \n",
      "2^7, 2^6, 2^5, 2^4, 2^3, 2^2, 2^1, 2^0\n",
      "128,  64,  32,  16,   8,   4,   2,   1\n",
      "  1,   1,   1,   1,   1,   1,   1,   1\n",
      "11111111 is the binary solution.\n",
      "\n"
     ]
    }
   ],
   "source": [
    "# Solution in code block below to show clearly aligned powers of 2 and the corresponding binary below it\n",
    "print(\"11 to binary: \")\n",
    "print(f\"2^4, 2^3, 2^2, 2^1, 2^0\")\n",
    "print(f\" 16,   8,   4,   2,   1\")\n",
    "print(f\"  0,   1,   0,   1,   1\")\n",
    "print(\"1011 is the binary solution.\\n\")\n",
    "\n",
    "print(\"65 to binary: \")\n",
    "print(f\"2^6, 2^5, 2^4, 2^3, 2^2, 2^1, 2^0\")\n",
    "print(f\" 64,  32,  16,   8,   4,   2,   1\")\n",
    "print(f\"  1,   0,   0,   0,   0,   0,   1\")\n",
    "print(\"1000001 is the binary solution.\\n\")\n",
    "\n",
    "print(\"100 to binary: \")\n",
    "print(f\"2^6, 2^5, 2^4, 2^3, 2^2, 2^1, 2^0\")\n",
    "print(f\" 64,  32,  16,   8,   4,   2,   1\")\n",
    "print(f\"  1,   1,   0,   0,   1,   0,   0\")\n",
    "print(\"1100100 is the binary solution.\\n\")\n",
    "\n",
    "print(\"255 to binary: \")\n",
    "print(f\"2^7, 2^6, 2^5, 2^4, 2^3, 2^2, 2^1, 2^0\")\n",
    "print(f\"128,  64,  32,  16,   8,   4,   2,   1\")\n",
    "print(f\"  1,   1,   1,   1,   1,   1,   1,   1\")\n",
    "print(\"11111111 is the binary solution.\\n\")"
   ]
  },
  {
   "cell_type": "markdown",
   "id": "50cd1fb0-7aa5-4071-9632-ac10eddf8f38",
   "metadata": {},
   "source": [
    "### Problem **4**\n",
    "\n",
    "#### Question Text\n",
    "\n",
    "4. Use what you’ve learned about the binary numbering system in this chapter to convert the following binary numbers to decimal:\n",
    "\n",
    "  1101\n",
    "  1000\n",
    "101011\n",
    "\n",
    "#### High-Level Overview\n",
    "\n",
    "I started by identifying the powers of 2 for clarity.  I then placed the corresponding result below the power of 2.  Lastly I added the powers of 2 that showed a \"1\" and put the solution next to the binary."
   ]
  },
  {
   "cell_type": "code",
   "execution_count": 25,
   "id": "8f89d8e1-56de-47a7-8814-e2d9e23e379f",
   "metadata": {},
   "outputs": [
    {
     "name": "stdout",
     "output_type": "stream",
     "text": [
      "1101 to decimal: \n",
      "2^3, 2^2, 2^1, 2^0\n",
      "  8,   4,   2,   1\n",
      "  8 +  4 +  0 +  1 = 13\n",
      "13 is the decimal solution.\n",
      "\n",
      "1000 to decimal: \n",
      "2^3, 2^2, 2^1, 2^0\n",
      "  8,   4,   2,   1\n",
      "  8 +  0 +  0 +  0 = 8\n",
      "8 is the decimal solution.\n",
      "\n",
      "101011 to decimal: \n",
      "2^5, 2^4, 2^3, 2^2, 2^1, 2^0\n",
      " 32,  16,   8,   4,   2,   1\n",
      " 32 +  0 +  8 +  0 +  2 +  1 = 43\n",
      "43 is the decimal solution.\n"
     ]
    }
   ],
   "source": [
    "# Solution in code block below to show clearly aligned powers of 2 and the corresponding decimal addition below\n",
    "print(\"1101 to decimal: \")\n",
    "print(f\"2^3, 2^2, 2^1, 2^0\")\n",
    "print(f\"  8,   4,   2,   1\")\n",
    "print(\"  8 +  4 +  0 +  1 = 13\")\n",
    "print(\"13 is the decimal solution.\\n\")\n",
    "\n",
    "print(\"1000 to decimal: \")\n",
    "print(f\"2^3, 2^2, 2^1, 2^0\")\n",
    "print(f\"  8,   4,   2,   1\")\n",
    "print(\"  8 +  0 +  0 +  0 = 8\")\n",
    "print(\"8 is the decimal solution.\\n\")\n",
    "\n",
    "print(\"101011 to decimal: \")\n",
    "print(f\"2^5, 2^4, 2^3, 2^2, 2^1, 2^0\")\n",
    "print(f\" 32,  16,   8,   4,   2,   1\")\n",
    "print(\" 32 +  0 +  8 +  0 +  2 +  1 = 43\")\n",
    "print(\"43 is the decimal solution.\")"
   ]
  }
 ],
 "metadata": {
  "kernelspec": {
   "display_name": "Python 3 (ipykernel)",
   "language": "python",
   "name": "python3"
  },
  "language_info": {
   "codemirror_mode": {
    "name": "ipython",
    "version": 3
   },
   "file_extension": ".py",
   "mimetype": "text/x-python",
   "name": "python",
   "nbconvert_exporter": "python",
   "pygments_lexer": "ipython3",
   "version": "3.12.7"
  },
  "panel-cell-order": [
   "b563dde4-ebc8-46da-834f-daf1849f03f1"
  ]
 },
 "nbformat": 4,
 "nbformat_minor": 5
}
