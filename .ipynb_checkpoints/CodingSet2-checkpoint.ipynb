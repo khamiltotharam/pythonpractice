{
 "cells": [
  {
   "cell_type": "markdown",
   "id": "dfdc31c1-d2d7-457e-9748-9f4c2e0d31a5",
   "metadata": {},
   "source": [
    "# Chapter 2 Coding Set\n",
    "\n",
    "**Remember to save a copy of this template BEFORE YOU START WORKING :)**\n",
    "\n",
    "Work completed by Khamil Totharam.\n",
    "\n",
    "If you struggle with a problem for an extended period of time, remember you can go comment on two other submissions now (seeing other student work helps), or you can post in our discussion forum for questions, which can also earn you extra credit."
   ]
  },
  {
   "cell_type": "markdown",
   "id": "550d6545-87bd-4ce6-9d6f-2fa82b070f67",
   "metadata": {},
   "source": [
    "## Imports\n",
    "\n",
    "**If your program requires additional modules, external resources, or files, use this cell to set them up**"
   ]
  },
  {
   "cell_type": "code",
   "execution_count": 2,
   "id": "af7b1712-e2af-4d77-8033-425afad3d88a",
   "metadata": {},
   "outputs": [],
   "source": [
    "# configure your environment\n",
    "\n",
    "# you can uncomment this code to make use of files stored in your Google Drive\n",
    "#from google.colab import drive\n",
    "#drive.mount('/content/drive')\n",
    "\n",
    "# you can uncomment the following line of code to use the pandas library\n",
    "import pandas as pd"
   ]
  },
  {
   "cell_type": "markdown",
   "id": "7d7d3f37-adc7-4798-8778-a97b10514217",
   "metadata": {},
   "source": [
    "## Algorithm Workbench"
   ]
  },
  {
   "cell_type": "markdown",
   "id": "a101ba53-962f-4a0e-833f-9297a6a17ffb",
   "metadata": {},
   "source": [
    "### Problem 4\n",
    "\n",
    "#### Question Text\n",
    "\n",
    "*Paste in the question text below.*\n",
    "\n",
    "Assume the variable result, w, x, y, and z are all integers, and that w = 5, x = 4, y = 8, and z = 2.  What value will be stored in result after each of the following statements execute?\n",
    "\n",
    "    a. result = x + y\n",
    "    b. result = z * 2\n",
    "    c. result = y / x\n",
    "    d. result = y - z\n",
    "    e. result = w // z\n",
    "\n",
    "#### High-Level Overview\n",
    "\n",
    "*In two to three sentences at minimum, walk through your general approach to the problem and identify any particular issues you had.*\n",
    "\n",
    "[Please double click this cell and update the problem number above, choosing one of the Algorithm Workbench problems from Chapter 2 of your textbook. Then, update the question text. Finally, once you've completed the problem, please replace the high-level overview placeholder text with your own words describing your solution.]"
   ]
  },
  {
   "cell_type": "code",
   "execution_count": null,
   "id": "8582a675-1d2b-4521-a152-094cca178b01",
   "metadata": {},
   "outputs": [],
   "source": []
  }
 ],
 "metadata": {
  "kernelspec": {
   "display_name": "Python 3 (ipykernel)",
   "language": "python",
   "name": "python3"
  },
  "language_info": {
   "codemirror_mode": {
    "name": "ipython",
    "version": 3
   },
   "file_extension": ".py",
   "mimetype": "text/x-python",
   "name": "python",
   "nbconvert_exporter": "python",
   "pygments_lexer": "ipython3",
   "version": "3.12.7"
  }
 },
 "nbformat": 4,
 "nbformat_minor": 5
}
