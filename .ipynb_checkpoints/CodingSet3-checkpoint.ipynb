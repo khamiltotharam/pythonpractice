{
 "cells": [
  {
   "cell_type": "markdown",
   "id": "0b0979ed-005d-419a-b125-4aa6b5849b5c",
   "metadata": {},
   "source": [
    "# Chapter **?** Coding Set\n",
    "\n",
    "**Remember to save a copy of this template BEFORE YOU START WORKING :)**\n",
    "\n",
    "Work completed by Khamil Totharam.\n"
   ]
  },
  {
   "cell_type": "markdown",
   "id": "8826f522-b849-4588-9b57-658515c02ae5",
   "metadata": {},
   "source": [
    "## Imports\n",
    "\n",
    "**If your program requires additional modules, external resources, or files, use this cell to set them up**"
   ]
  },
  {
   "cell_type": "code",
   "execution_count": 1,
   "id": "b0c661dc-2fe3-430b-97c4-0556495a2556",
   "metadata": {},
   "outputs": [],
   "source": [
    "# configure your environment\n",
    "\n",
    "# you can uncomment this code to make use of files stored in your Google Drive\n",
    "# from google.colab import drive\n",
    "# drive.mount('/content/drive')\n",
    "\n",
    "# you can uncomment the following line of code to use the pandas library\n",
    "import pandas as pd"
   ]
  },
  {
   "cell_type": "markdown",
   "id": "d107420c-362c-4b58-a163-dc7514a566ea",
   "metadata": {},
   "source": [
    "## Algorithm Workbench"
   ]
  },
  {
   "cell_type": "markdown",
   "id": "e691c865-c6f4-4574-9efd-c2a7efcf64cc",
   "metadata": {},
   "source": [
    "### Problem **4**\n",
    "\n",
    "#### Question Text\n",
    "\n",
    "The following code contains several nested  statements. Unfortunately, it was written without proper alignment and indentation. Rewrite the code and use the proper conventions of alignment and indentation.\n",
    "\n",
    "if score >= A_score:\n",
    "print('Your grade is A.\")\n",
    "else:\n",
    "if score >= B_score:\n",
    "print('Your grade is B.')\n",
    "else:\n",
    "if score >= C_score:\n",
    "print('Your grade is C.')\n",
    "else:\n",
    "if score >= D_score:\n",
    "print('Your grade is D.')\n",
    "else:\n",
    "print('Your grade is F.')\n",
    "\n",
    "#### High-Level Overview\n",
    "\n",
    "*In two to three sentences at minimum, walk through your general approach to the problem and identify any particular issues you had.*\\\n",
    "\n",
    "First I initialized the scores to their respective values in order to check in the following if-elif-else block. Then I prompted the user to enter the score variable and set it to a value desired to check named \"score.\" Lastly I created the if-elif-else block from page 172 for checking the \"score\" variable."
   ]
  },
  {
   "cell_type": "code",
   "execution_count": 1,
   "id": "5c2cdd1c-fb19-448f-a2cf-571da572f469",
   "metadata": {},
   "outputs": [
    {
     "name": "stdin",
     "output_type": "stream",
     "text": [
      "enter your score:  92\n"
     ]
    },
    {
     "name": "stdout",
     "output_type": "stream",
     "text": [
      "Your grade is A.\n"
     ]
    }
   ],
   "source": [
    "A_score = 90 # Initialize \"A\" score\n",
    "B_score = 80 # Initialize \"B\" score\n",
    "C_score = 70 # Initialize \"C\" score\n",
    "D_score = 60 # Initialize \"D\" score\n",
    "\n",
    "score = float(input(\"enter your score: \")) # Desired score to check\n",
    "\n",
    "# if-elif-else block from pg. 172 in textbook\n",
    "if score >= A_score:\n",
    "    print('Your grade is A.')\n",
    "elif score >= B_score:\n",
    "    print('Your grade is B.')\n",
    "elif score >= C_score:\n",
    "    print('Your grade is C.')\n",
    "elif score >= D_score:\n",
    "    print('Your grade is D.')\n",
    "else:\n",
    "    print('Your grade is F.')"
   ]
  },
  {
   "cell_type": "markdown",
   "id": "e1e45749-67b8-4d3e-b7c4-66ffe5bd4d89",
   "metadata": {},
   "source": [
    "### Problem **5**\n",
    "\n",
    "#### Question Text\n",
    "\n",
    "Write nested decision structures that perform the following: If 'amount1' is greater than 10 and 'amount2' is less than 100, display the greater of 'amount1' and 'amount2'.\n",
    "\n",
    "#### High-Level Overview\n",
    "\n",
    "*In two to three sentences at minimum, walk through your general approach to the problem and identify any particular issues you had.*\n",
    "first\n",
    "\n",
    "First I created the \"amount1\" and \"amount2\" values and prompted the user to enter the values to compare. Then I created the if-else blocks to compare the amounts to the value 10 and 100.  Lastly I diplayed the greater of amounts after comparing which is the higher of the two."
   ]
  },
  {
   "cell_type": "code",
   "execution_count": 16,
   "id": "44646d1d-6804-4bcc-8cf9-30c7b13be0ad",
   "metadata": {},
   "outputs": [
    {
     "name": "stdin",
     "output_type": "stream",
     "text": [
      "enter a value:  25\n",
      "enter a second value:  32\n"
     ]
    },
    {
     "name": "stdout",
     "output_type": "stream",
     "text": [
      "32.0\n",
      "\n"
     ]
    }
   ],
   "source": [
    "# prompt user to enter values to compare\n",
    "amount1 = float(input(\"enter a value: \"))\n",
    "amount2 = float(input(\"enter a second value: \"))\n",
    "\n",
    "# determine if the numbers are acceptable\n",
    "if amount1 > 10 and amount2 < 100:\n",
    "    # determine the higher value of the two then print ouput\n",
    "    if amount1 > amount2:\n",
    "        print(amount1)\n",
    "    else:\n",
    "        print(amount2)\n",
    "    print()\n",
    "# catches unwanted values and describes acceptable values\n",
    "else:\n",
    "    print(\"Error: enter better values. 'amount1' is less than 10 and/or 'amount2' is greater than 100\")"
   ]
  },
  {
   "cell_type": "markdown",
   "id": "d117ee43-8dd6-466e-ade3-8d81892b3c88",
   "metadata": {},
   "source": [
    "## Programming Exercises"
   ]
  },
  {
   "cell_type": "markdown",
   "id": "0aedfc90-6c70-4732-9a3b-d178d0c832f8",
   "metadata": {},
   "source": [
    "### Problem **1**\n",
    "\n",
    "#### Question Text - Day of the Week\n",
    "\n",
    "Write a program that asks the user for a number in the range of 1 through 7. The program should display the corresponding day of the week, where 1 = Monday, 2 = Tuesday, 3 = Wednesday, 4 = Thursday, 5 = Friday, 6 = Saturday, and 7 = Sunday. The program should display an error message if the user enters a number that is outside the range of 1 through 7.\n",
    "\n",
    "#### High-Level Overview\n",
    "\n",
    "*In two to three sentences at minimum, walk through your general approach to the problem and identify any particular issues you had.*\n",
    "\n",
    "I first started by prompting the user to enter a number between one and seven then converted to a float from string. Then created an if-elif-else block of code to match up the input to corresponding day of the week. Lastly, I checked values outside the desired range expected and printed an error message."
   ]
  },
  {
   "cell_type": "code",
   "execution_count": 34,
   "id": "9ab6511d-5ecb-4bfe-b1cc-657f47411c09",
   "metadata": {},
   "outputs": [
    {
     "name": "stdin",
     "output_type": "stream",
     "text": [
      "Enter a number between 1 and 7.\n",
      " 7\n"
     ]
    },
    {
     "name": "stdout",
     "output_type": "stream",
     "text": [
      "Sunday\n"
     ]
    }
   ],
   "source": [
    "# Prompt the user to enter a number between 1 and 7\n",
    "day = float(input(\"Enter a number between 1 and 7.\\n\"))\n",
    "\n",
    "# compares \"day\" value and prints corresponding day of the week\n",
    "if day == 1:\n",
    "    print(\"Monday\")\n",
    "elif day == 2:\n",
    "    print(\"Tuesday\")\n",
    "elif day == 3:\n",
    "    print(\"Wednesday\")\n",
    "elif day == 4:\n",
    "    print(\"Thursday\")\n",
    "elif day == 5:\n",
    "    print(\"Friday\")\n",
    "elif day == 6:\n",
    "    print(\"Saturday\")\n",
    "elif day == 7:\n",
    "    print(\"Sunday\")\n",
    "# checks for values outside desired range\n",
    "elif day > 7 or day < 1:\n",
    "    print(\"Error: number isn't between 1 and 7.\")\n",
    "else:\n",
    "    print(\"Please enter a number between 1 and 7.\")"
   ]
  },
  {
   "cell_type": "markdown",
   "id": "bf194227-5187-4917-a1f5-d617d231710d",
   "metadata": {},
   "source": [
    "### Problem **5**\n",
    "\n",
    "#### Question Text - Mass and Weight\n",
    "\n",
    "Scientists measure an object’s mass in kilograms and its weight in newtons. If you know the amount of mass of an object in kilograms, you can calculate its weight in newtons with the following formula:\n",
    "\n",
    "                                    weight = mass x 9.8\n",
    "\n",
    "Write a program that asks the user to enter an object’s mass, then calculates its weight. If the object weighs more than 500 newtons, display a message indicating that it is too heavy. If the object weighs less than 100 newtons, display a message indicating that it is too light.\n",
    "\n",
    "#### High-Level Overview\n",
    "\n",
    "*In two to three sentences at minimum, walk through your general approach to the problem and identify any particular issues you had.*\n",
    "\n",
    "First I prompted the user for a mass and converted to a float. Then I calculated the weight from the input.  Lastly, I compared if the weight was within the desired range and displayed the weight to the user."
   ]
  },
  {
   "cell_type": "code",
   "execution_count": 29,
   "id": "ecc1d87a-2a46-4345-b964-fb21a5f91252",
   "metadata": {},
   "outputs": [
    {
     "name": "stdin",
     "output_type": "stream",
     "text": [
      "Enter a mass:\n",
      " 33\n"
     ]
    },
    {
     "name": "stdout",
     "output_type": "stream",
     "text": [
      "Newtons: 323.40\n"
     ]
    }
   ],
   "source": [
    "# prompt user for a mass to calculate into Newtons\n",
    "mass = float(input(\"Enter a mass:\\n\"))\n",
    "\n",
    "# Calculate weight in Newtons\n",
    "weight = mass * 9.8\n",
    "\n",
    "# check if value is in range and print to user\n",
    "if weight > 500:\n",
    "    print(\"Too heavy!\")\n",
    "elif weight < 100:\n",
    "    print(\"Too light...\")\n",
    "else:\n",
    "    print(f\"Newtons: {weight:.2f}\")"
   ]
  },
  {
   "cell_type": "code",
   "execution_count": null,
   "id": "afc52767-e5b8-47ef-8b75-2ef2b73cfec3",
   "metadata": {},
   "outputs": [],
   "source": []
  }
 ],
 "metadata": {
  "kernelspec": {
   "display_name": "Python 3 (ipykernel)",
   "language": "python",
   "name": "python3"
  },
  "language_info": {
   "codemirror_mode": {
    "name": "ipython",
    "version": 3
   },
   "file_extension": ".py",
   "mimetype": "text/x-python",
   "name": "python",
   "nbconvert_exporter": "python",
   "pygments_lexer": "ipython3",
   "version": "3.12.7"
  }
 },
 "nbformat": 4,
 "nbformat_minor": 5
}
