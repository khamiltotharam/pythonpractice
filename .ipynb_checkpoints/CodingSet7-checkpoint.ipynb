{
 "cells": [
  {
   "cell_type": "markdown",
   "id": "2dab5c43-95dc-4463-8e3c-7308fc69f2ff",
   "metadata": {},
   "source": [
    "# Chapter **7** Coding Set\n",
    "\n",
    "**Remember to save a copy of this template BEFORE YOU START WORKING :)**\n",
    "\n",
    "Work completed by Khamil Totharam."
   ]
  },
  {
   "cell_type": "markdown",
   "id": "64d1dbe5-addc-4de7-8426-3a9866989612",
   "metadata": {},
   "source": [
    "## Imports\n",
    "\n",
    "**If your program requires additional modules, external resources, or files, use this cell to set them up**"
   ]
  },
  {
   "cell_type": "code",
   "execution_count": 1,
   "id": "bb68c5e3-2c51-4930-b351-75bfbf9fd7f0",
   "metadata": {},
   "outputs": [],
   "source": [
    "# configure your environment\n",
    "\n",
    "# you can uncomment this code to make use of files stored in your Google Drive\n",
    "# from google.colab import drive\n",
    "# drive.mount('/content/drive')\n",
    "\n",
    "# you can uncomment the following line of code to use the pandas library\n",
    "# import pandas as pd"
   ]
  },
  {
   "cell_type": "markdown",
   "id": "ecb2b225-f18b-490f-98bc-b942cc1007fc",
   "metadata": {},
   "source": [
    "## Algorithm Workbench"
   ]
  },
  {
   "cell_type": "markdown",
   "id": "af10ec6b-cbdc-4ed7-8b8b-24ad6c9bdda6",
   "metadata": {},
   "source": [
    "### Problem **8**\n",
    "\n",
    "#### Question Text\n",
    "\n",
    "Assume list1 is a list of integers. Write a statement that uses a list comprehension to create a second list containing the squares of the elements of list1.\n",
    "\n",
    "#### High-Level Overview\n",
    "\n",
    "Reference page 433 in book for help writing list comprehension. First I created a list of integers and assigned to a variable. Then I used the comprehension syntax to create a copy of the first list and assign to a new variable. Lastly I displayed the second list to check if the copying worked."
   ]
  },
  {
   "cell_type": "code",
   "execution_count": 14,
   "id": "cda891f6-6111-450d-aa56-91d6bff4cc29",
   "metadata": {},
   "outputs": [
    {
     "name": "stdout",
     "output_type": "stream",
     "text": [
      "[1, 2, 3, 4, 5, 6, 7, 8, 9, 10]\n"
     ]
    }
   ],
   "source": [
    "# create list to copy\n",
    "list1 = [1, 2, 3, 4, 5, 6, 7, 8, 9, 10]\n",
    "# using comprehension syntax assign value to new list\n",
    "list2 = [value for value in list1]\n",
    "# display second list to test if it worked\n",
    "print(list2)"
   ]
  },
  {
   "cell_type": "markdown",
   "id": "b11c28e8-2987-4be9-8f5c-4e62262ae32e",
   "metadata": {},
   "source": [
    "### Problem **11**\n",
    "\n",
    "#### Question Text\n",
    "\n",
    "Write a statement that creates a two-dimensional list with 5 rows and 3 columns. Then write nested loops that get an integer value from the user for each element in the list.\n",
    "\n",
    "#### High-Level Overview\n",
    "\n",
    "Reference page 436 for syntax of two-dimensional lists. First I created constants for the rows and columns desired. Then I made a list to the specifications required in the question and assigned the default value to 0. Next, I made a for loop to iterate through the rows followed by another for loop nested in the previous loop to iterate through the columns. I prompted the user for a number then assigned the number to the list using the iteration value (\"row\"/\"col\") to target the element in the list. Lastly, I displayed the list for the user."
   ]
  },
  {
   "cell_type": "code",
   "execution_count": 15,
   "id": "932af6fb-e3f6-48db-bc0e-360f04e2ca9e",
   "metadata": {},
   "outputs": [
    {
     "name": "stdin",
     "output_type": "stream",
     "text": [
      "Enter a number:  1\n",
      "Enter a number:  2\n",
      "Enter a number:  3\n",
      "Enter a number:  4\n",
      "Enter a number:  5\n",
      "Enter a number:  6\n",
      "Enter a number:  7\n",
      "Enter a number:  8\n",
      "Enter a number:  9\n",
      "Enter a number:  10\n",
      "Enter a number:  11\n",
      "Enter a number:  12\n",
      "Enter a number:  13\n",
      "Enter a number:  14\n",
      "Enter a number:  15\n"
     ]
    },
    {
     "name": "stdout",
     "output_type": "stream",
     "text": [
      "[[1, 2, 3], [4, 5, 6], [7, 8, 9], [10, 11, 12], [13, 14, 15]]\n"
     ]
    }
   ],
   "source": [
    "# create row/column constants\n",
    "ROWS = 5\n",
    "COLS = 3\n",
    "# create list as specified and assign 0 to each element\n",
    "num_list = [[0, 0, 0],\n",
    "            [0, 0, 0],\n",
    "            [0, 0, 0],\n",
    "            [0, 0, 0],\n",
    "            [0, 0, 0]]\n",
    "# loop through rows \n",
    "for row in range(ROWS):\n",
    "    # loop through columns\n",
    "    for col in range(COLS):\n",
    "        # prompt user for integer input\n",
    "        number = int(input(\"Enter a number: \"))\n",
    "        # assign input to the current iteration of the list\n",
    "        num_list[row][col] = number\n",
    "# display new list\n",
    "print(num_list)"
   ]
  },
  {
   "cell_type": "markdown",
   "id": "4c8ce1d9-a9c9-473e-961a-1e42afa4300a",
   "metadata": {},
   "source": [
    "## Programming Exercises"
   ]
  },
  {
   "cell_type": "markdown",
   "id": "fc4e0147-ef78-414c-8d68-6ea26d85a8d0",
   "metadata": {},
   "source": [
    "### Problem **1**\n",
    "\n",
    "#### Question Text - Total Sales\n",
    "\n",
    "Design a program that asks the user to enter a store’s sales for each day of the week. The amounts should be stored in a list. Use a loop to calculate the total sales for the week and display the result.\n",
    "\n",
    "#### High-Level Overview\n",
    "\n",
    "First I created a constant of the number of days to loop through and defined the main function. Next, I created a list and initialized all the values to 0. This was followed by the prompting of the user input using a for loop and assigning to the list. Then I displayed the total sales ending the function and called the main function."
   ]
  },
  {
   "cell_type": "code",
   "execution_count": 24,
   "id": "f425d40a-f170-4fc8-a539-e97a43988626",
   "metadata": {},
   "outputs": [
    {
     "name": "stdout",
     "output_type": "stream",
     "text": [
      "Enter the sales for each day of the work week: \n"
     ]
    },
    {
     "name": "stdin",
     "output_type": "stream",
     "text": [
      "Day #1:  1000\n",
      "Day #2:  2000\n",
      "Day #3:  300\n",
      "Day #4:  4000\n",
      "Day #5:  5000\n"
     ]
    },
    {
     "name": "stdout",
     "output_type": "stream",
     "text": [
      "Here are the values added up together: 12,300.00\n"
     ]
    }
   ],
   "source": [
    "# create number of days constant for loop\n",
    "NUM_DAYS = 5\n",
    "# define main function\n",
    "def main():\n",
    "    # initialize list with 0 for value\n",
    "    sales = [0] * NUM_DAYS\n",
    "    # prompt user for input\n",
    "    print(\"Enter the sales for each day of the work week: \")\n",
    "    # loop through inputs of list\n",
    "    for index in range(len(sales)):\n",
    "        # assign input to list using index after converting to float\n",
    "        sales[index] = float(input(f\"Day #{index + 1}: \"))\n",
    "    # display total sales added up\n",
    "    print(f\"Here are the values added up together: {sum(sales):,.2f}\")\n",
    "# call main function\n",
    "if __name__ == \"__main__\":\n",
    "    main()"
   ]
  },
  {
   "cell_type": "markdown",
   "id": "59574fdb-7399-433e-a0db-2c4d1a5c5a45",
   "metadata": {},
   "source": [
    "### Problem **14**\n",
    "\n",
    "#### Question Text\n",
    "\n",
    "Create a text file that contains your expenses for last month in the following categories:\n",
    "\n",
    "    * Rent\n",
    "    * Gas            \n",
    "    * Food            \n",
    "    * Clothing            \n",
    "    * Car payment            \n",
    "    * Misc                        \n",
    "\n",
    "Write a Python program that reads the data from the file and uses matplotlib to plot a pie chart showing how you spend your money.\n",
    "\n",
    "#### High-Level Overview\n",
    "\n",
    "*In two to three sentences at minimum, walk through your general approach to the problem and identify any particular issues you had.*"
   ]
  },
  {
   "cell_type": "code",
   "execution_count": 5,
   "id": "16b2009b-4bd3-4e0c-812c-73daec5c8dd7",
   "metadata": {},
   "outputs": [],
   "source": [
    "# add your code to this cell\n",
    "# remember to include comments like this one for most of your code\n",
    "# remember to \"Run cell\" once you're done, excecuting your code so the output is displayed below"
   ]
  },
  {
   "cell_type": "markdown",
   "id": "a0163dcb-ff2c-4299-93a7-9624307c39e0",
   "metadata": {},
   "source": [
    "### Problem **?**\n",
    "\n",
    "#### Question Text\n",
    "\n",
    "*Paste in the question text below.*\n",
    "\n",
    "#### High-Level Overview\n",
    "\n",
    "*In two to three sentences at minimum, walk through your general approach to the problem and identify any particular issues you had.*"
   ]
  },
  {
   "cell_type": "code",
   "execution_count": 6,
   "id": "f458774e-3bb0-406d-aeb2-492c8f91577a",
   "metadata": {},
   "outputs": [],
   "source": [
    "# add your code to this cell\n",
    "# remember to include comments like this one for most of your code\n",
    "# remember to \"Run cell\" once you're done, excecuting your code so the output is displayed below"
   ]
  },
  {
   "cell_type": "markdown",
   "id": "0e23431b-0ae3-4096-b9d5-1d59fd2f0b43",
   "metadata": {},
   "source": [
    "### Problem **?**\n",
    "\n",
    "#### Question Text\n",
    "\n",
    "*Paste in the question text below.*\n",
    "\n",
    "#### High-Level Overview\n",
    "\n",
    "*In two to three sentences at minimum, walk through your general approach to the problem and identify any particular issues you had.*"
   ]
  },
  {
   "cell_type": "code",
   "execution_count": 7,
   "id": "7bff4a1c-3915-4edc-9296-187bc1082754",
   "metadata": {},
   "outputs": [],
   "source": [
    "# add your code to this cell\n",
    "# remember to include comments like this one for most of your code\n",
    "# remember to \"Run cell\" once you're done, excecuting your code so the output is displayed below"
   ]
  },
  {
   "cell_type": "markdown",
   "id": "bae7a910-6cea-48e3-8a43-93deb8233734",
   "metadata": {},
   "source": [
    "## Helpful Checks\n",
    "\n",
    "1.   Did you comment every line of code with meaningful information that will help others reading your code?\n",
    "2.   Did you use appropriate names for your variables, functions, and/or classes?\n",
    "3.   Did you include a high-level explanation for each solution?\n",
    "4.   Did you run each cell that includes a final solution so the output is saved and easily viewed by others?\n",
    "5.   Are you sharing an editable link (i.e., Share > Anyone with the link > Editor) if using Colaboratory, or did you make more than ten commits if using GitHub?\n",
    "6.   Did you remember to comment on the submissions of two other students?"
   ]
  },
  {
   "cell_type": "code",
   "execution_count": null,
   "id": "92878e9c-8172-41e9-9a90-5bd91130bea8",
   "metadata": {},
   "outputs": [],
   "source": []
  }
 ],
 "metadata": {
  "kernelspec": {
   "display_name": "Python 3 (ipykernel)",
   "language": "python",
   "name": "python3"
  },
  "language_info": {
   "codemirror_mode": {
    "name": "ipython",
    "version": 3
   },
   "file_extension": ".py",
   "mimetype": "text/x-python",
   "name": "python",
   "nbconvert_exporter": "python",
   "pygments_lexer": "ipython3",
   "version": "3.12.7"
  }
 },
 "nbformat": 4,
 "nbformat_minor": 5
}
