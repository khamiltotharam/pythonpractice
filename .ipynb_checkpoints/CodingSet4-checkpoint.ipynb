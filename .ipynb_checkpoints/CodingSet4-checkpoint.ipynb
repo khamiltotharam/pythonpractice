{
 "cells": [
  {
   "cell_type": "markdown",
   "id": "95a37273-bb34-4b14-8771-872ab6ce297d",
   "metadata": {},
   "source": [
    "# Chapter **4** Coding Set\n",
    "\n",
    "**Remember to save a copy of this template BEFORE YOU START WORKING :)**\n",
    "\n",
    "Work completed by Khamil Totharam.\n",
    "\n",
    "If you start to struggle with a problem for an extended period of time, remember you can go comment on two other submissions now (seeing other student work helps), or you can post in our discussion forum for questions, which can also earn you extra credit."
   ]
  },
  {
   "cell_type": "markdown",
   "id": "597fefce-158e-48ed-a147-9a591f66ecc5",
   "metadata": {},
   "source": [
    "## Imports\n",
    "\n",
    "**If your program requires additional modules, external resources, or files, use this cell to set them up**"
   ]
  },
  {
   "cell_type": "code",
   "execution_count": 1,
   "id": "f31f0749-a496-4870-a93f-ee23bce4c9fb",
   "metadata": {},
   "outputs": [],
   "source": [
    "# configure your environment\n",
    "\n",
    "# you can uncomment this code to make use of files stored in your Google Drive\n",
    "# from google.colab import drive\n",
    "# drive.mount('/content/drive')\n",
    "\n",
    "# you can uncomment the following line of code to use the pandas library\n",
    "import pandas as pd"
   ]
  },
  {
   "cell_type": "markdown",
   "id": "d9a8e798-0da6-4791-9e8b-02df81bf05f9",
   "metadata": {},
   "source": [
    "## Algorithm Workbench"
   ]
  },
  {
   "cell_type": "markdown",
   "id": "9dc2cbef-1679-44d1-b1d1-db2ebc3279af",
   "metadata": {},
   "source": [
    "### Problem **4**\n",
    "\n",
    "#### Question Text\n",
    "\n",
    "Write a loop that asks the user to enter a number. The loop should iterate 10 times and keep a running total of the numbers entered.\n",
    "\n",
    "#### High-Level Overview\n",
    "\n",
    "*In two to three sentences at minimum, walk through your general approach to the problem and identify any particular issues you had.*\n",
    "\n",
    "First I created variables needed for keeping a running total, iterating through a loop, and prompting the user. Then I nested a whalrus while loop inside a regular while loop with count based comparison. The whalrus while loop is able to prompt and assign at the same time of a comparison being made and is less code overall when inspecting inputs from the user. Next, I get a total from the user input and increment by one for the outer while loop and print a running total. It's crutial to have the correct indentation when utilizing these techniques. Finally I printed the total once more to signify the end of the program."
   ]
  },
  {
   "cell_type": "code",
   "execution_count": 22,
   "id": "f8d854da-2474-48e4-8a5e-b7ccd1cad221",
   "metadata": {},
   "outputs": [
    {
     "name": "stdin",
     "output_type": "stream",
     "text": [
      "Enter a number:  -50\n",
      "Enter a positive nonzero number.\n",
      " -2\n"
     ]
    },
    {
     "name": "stdout",
     "output_type": "stream",
     "text": [
      "The score cannot be negative or 0.\n"
     ]
    },
    {
     "name": "stdin",
     "output_type": "stream",
     "text": [
      "Enter a positive nonzero number.\n",
      " 1\n"
     ]
    },
    {
     "name": "stdout",
     "output_type": "stream",
     "text": [
      "running total: 1.0\n"
     ]
    },
    {
     "name": "stdin",
     "output_type": "stream",
     "text": [
      "Enter a positive nonzero number.\n",
      " 2\n"
     ]
    },
    {
     "name": "stdout",
     "output_type": "stream",
     "text": [
      "running total: 3.0\n"
     ]
    },
    {
     "name": "stdin",
     "output_type": "stream",
     "text": [
      "Enter a positive nonzero number.\n",
      " 3\n"
     ]
    },
    {
     "name": "stdout",
     "output_type": "stream",
     "text": [
      "running total: 6.0\n"
     ]
    },
    {
     "name": "stdin",
     "output_type": "stream",
     "text": [
      "Enter a positive nonzero number.\n",
      " 4\n"
     ]
    },
    {
     "name": "stdout",
     "output_type": "stream",
     "text": [
      "running total: 10.0\n"
     ]
    },
    {
     "name": "stdin",
     "output_type": "stream",
     "text": [
      "Enter a positive nonzero number.\n",
      " 5\n"
     ]
    },
    {
     "name": "stdout",
     "output_type": "stream",
     "text": [
      "running total: 15.0\n"
     ]
    },
    {
     "name": "stdin",
     "output_type": "stream",
     "text": [
      "Enter a positive nonzero number.\n",
      " 6\n"
     ]
    },
    {
     "name": "stdout",
     "output_type": "stream",
     "text": [
      "running total: 21.0\n"
     ]
    },
    {
     "name": "stdin",
     "output_type": "stream",
     "text": [
      "Enter a positive nonzero number.\n",
      " 7\n"
     ]
    },
    {
     "name": "stdout",
     "output_type": "stream",
     "text": [
      "running total: 28.0\n"
     ]
    },
    {
     "name": "stdin",
     "output_type": "stream",
     "text": [
      "Enter a positive nonzero number.\n",
      " 8\n"
     ]
    },
    {
     "name": "stdout",
     "output_type": "stream",
     "text": [
      "running total: 36.0\n"
     ]
    },
    {
     "name": "stdin",
     "output_type": "stream",
     "text": [
      "Enter a positive nonzero number.\n",
      " 9\n"
     ]
    },
    {
     "name": "stdout",
     "output_type": "stream",
     "text": [
      "running total: 45.0\n"
     ]
    },
    {
     "name": "stdin",
     "output_type": "stream",
     "text": [
      "Enter a positive nonzero number.\n",
      " 10\n"
     ]
    },
    {
     "name": "stdout",
     "output_type": "stream",
     "text": [
      "running total: 55.0\n",
      "total: 55.0\n"
     ]
    }
   ],
   "source": [
    "# prompt user and create variables needed\n",
    "number = float(input(\"Enter a number: \"))\n",
    "count = 10\n",
    "iteration = 0\n",
    "total = 0\n",
    "\n",
    "# comparison to iterate 10 times\n",
    "while iteration < count:\n",
    "        # whalrus while loop from pg. 235 utilized\n",
    "        while (number := float(input(\"Enter a positive nonzero number.\\n\"))) <= 0:\n",
    "            print(\"The score cannot be negative or 0.\")\n",
    "        # add total from input\n",
    "        total += number\n",
    "        # incremting by one for outer loop\n",
    "        iteration += 1\n",
    "        # display a running total while running program\n",
    "        print(f\"running total: {total}\")\n",
    "# display final ouput and end program\n",
    "print(f\"total: {total}\")"
   ]
  },
  {
   "cell_type": "markdown",
   "id": "01ed8cff-e90a-41dd-9e6d-1370664231a5",
   "metadata": {},
   "source": [
    "### Problem **5**\n",
    "\n",
    "#### Question Text\n",
    "\n",
    "Write a loop that calculates the total of the following series of numbers:\n",
    "\n",
    "    1/30  + 2/29 + 3/28 + ... 30/1\n",
    "\n",
    "#### High-Level Overview\n",
    "\n",
    "*In two to three sentences at minimum, walk through your general approach to the problem and identify any particular issues you had.*\n",
    "\n",
    "First I created the variables needed for calculating the total of the series. Then I started a while loop with the condition of repeating 30 times. Inside the loop, the quotient of the numerator and denominator would be added to total then count would be incremented by one.  Lastly when the loop finishes I displayed the total ouput."
   ]
  },
  {
   "cell_type": "code",
   "execution_count": 46,
   "id": "6af1de28-13f3-44c5-9cee-8c7c86b10d34",
   "metadata": {},
   "outputs": [
    {
     "name": "stdout",
     "output_type": "stream",
     "text": [
      "total: 93.845\n"
     ]
    }
   ],
   "source": [
    "# initialize variables needed\n",
    "numerator = 1\n",
    "denominator = 30\n",
    "count = 0\n",
    "iteration = 30\n",
    "total = 0\n",
    "\n",
    "# while loop 0 to 29 \n",
    "while count < iteration:\n",
    "    # add to total the quotient of numerator divide by denominator\n",
    "    total += (numerator/denominator)\n",
    "    # print(f\"{numerator}/{denominator}\") - testing to see output visualized\n",
    "    # increment numerator\n",
    "    numerator += 1\n",
    "    # decrement denominator\n",
    "    denominator -= 1\n",
    "    # increment count\n",
    "    count += 1\n",
    "# display total output\n",
    "print(f\"total: {total:.3f}\")"
   ]
  },
  {
   "cell_type": "markdown",
   "id": "8fd6c724-5249-4828-b678-ab40e03495e3",
   "metadata": {},
   "source": [
    "## Programming Exercises"
   ]
  },
  {
   "cell_type": "markdown",
   "id": "1eb10b5c-854f-4470-81b2-92df36612d42",
   "metadata": {},
   "source": [
    "### Problem **1**\n",
    "\n",
    "#### Question Text - Bug Collector\n",
    "\n",
    "A bug collector collects bugs every day for five days. Write a program that keeps a running total of the number of bugs collected during the five days. The loop should ask for the number of bugs collected for each day, and when the loop is finished, the program should display the total number of bugs collected.\n",
    "\n",
    "#### High-Level Overview\n",
    "\n",
    "*In two to three sentences at minimum, walk through your general approach to the problem and identify any particular issues you had.*\n",
    "\n",
    "First I created a variable to keep a running total of bugs collected. Then I nested a whalrus while loop from pg. 235 inside a for loop which will iterate five times. The whalrus while loop checks for nonnegative numbers entered by the user then prints an error message if negative input is received. If a valid input, the input is added to the total variable then the loop starts again. Once the loop ends, I displayed the total output to the user."
   ]
  },
  {
   "cell_type": "code",
   "execution_count": 38,
   "id": "d554e20d-7de5-49a8-90f5-4afb2b81cbcd",
   "metadata": {},
   "outputs": [
    {
     "name": "stdin",
     "output_type": "stream",
     "text": [
      "Enter the number of bugs collected on day 1:  -50\n"
     ]
    },
    {
     "name": "stdout",
     "output_type": "stream",
     "text": [
      "Enter a nonnegative number...\n"
     ]
    },
    {
     "name": "stdin",
     "output_type": "stream",
     "text": [
      "Enter the number of bugs collected on day 1:  -1\n"
     ]
    },
    {
     "name": "stdout",
     "output_type": "stream",
     "text": [
      "Enter a nonnegative number...\n"
     ]
    },
    {
     "name": "stdin",
     "output_type": "stream",
     "text": [
      "Enter the number of bugs collected on day 1:  1\n",
      "Enter the number of bugs collected on day 2:  2\n",
      "Enter the number of bugs collected on day 3:  3\n",
      "Enter the number of bugs collected on day 4:  4\n",
      "Enter the number of bugs collected on day 5:  0\n"
     ]
    },
    {
     "name": "stdout",
     "output_type": "stream",
     "text": [
      "total: 10\n"
     ]
    }
   ],
   "source": [
    "# create variables needed to keep running total\n",
    "total = 0\n",
    "\n",
    "# for loop to mimic 5 days\n",
    "for i in range(1, 6):\n",
    "    # whalrus while loop pg. 235 to check for nonnegative numbers\n",
    "    while (num_bugs := int(input(f\"Enter the number of bugs collected on day {i}: \"))) < 0:\n",
    "        # will display when negative number entered\n",
    "        print(\"Enter a nonnegative number...\")\n",
    "    # adds bugs collected to total\n",
    "    total += num_bugs\n",
    "# display total output\n",
    "print(f\"total: {total}\")"
   ]
  },
  {
   "cell_type": "markdown",
   "id": "38f18d75-2cd7-45ca-bf7a-6e0e8e5d4bcc",
   "metadata": {},
   "source": [
    "### Problem **4**\n",
    "\n",
    "#### Question Text - Distance Traveled\n",
    "\n",
    "The distance a vehicle travels can be calculated as follows:\n",
    "\n",
    "    distance = speed * time\n",
    "\n",
    "For example, if a train travels 40 miles per hour for three hours, the distance traveled is 120 miles. Write a program that asks the user for the speed of a vehicle (in miles per hour) and the number of hours it has traveled. It should then use a loop to display the distance the vehicle has traveled for each hour of that time period. Here is an example of the desired output:\n",
    "\n",
    "        what was the speed of the vehicle in mph? 40 [Enter]\n",
    "        how many hours has it traveled? 3 [Enter]\n",
    "        \n",
    "    Hour          Distance Traveled\n",
    "    -------------------------------\n",
    "    1             40\n",
    "    2             80\n",
    "    3             120\n",
    "\n",
    "#### High-Level Overview\n",
    "\n",
    "*In two to three sentences at minimum, walk through your general approach to the problem and identify any particular issues you had.*\n",
    "\n",
    "First I made a variable and two whalrus while loops for data input from the user. I then calculated the distance from the equation in the question and formated a reusable header when printing output. The next while loop is count based condition controlled and uses our variable from earlier (\"1\") which will help visualize the incremental change of distance per hour traveled. I made a travel variable to help keep track of the running distance traveled and set it equal to the miles per hour multiplied by the count variable which is incremented inside the while loop. Lastly I printed the ouputs from data entered and incremented the count by one."
   ]
  },
  {
   "cell_type": "code",
   "execution_count": 44,
   "id": "e100be72-5def-48f5-99a7-e226e92cdc14",
   "metadata": {},
   "outputs": [
    {
     "name": "stdin",
     "output_type": "stream",
     "text": [
      "Enter the speed of a vehicle to calculate the distance traveled:  742.2\n",
      "Enter the number of hours traveled:  24.5\n"
     ]
    },
    {
     "name": "stdout",
     "output_type": "stream",
     "text": [
      "\n",
      "Hour\t\t\tDistance Traveled\n",
      "-----------------------------------------\n",
      "1\t\t\t742.20\n",
      "2\t\t\t1,484.40\n",
      "3\t\t\t2,226.60\n",
      "4\t\t\t2,968.80\n",
      "5\t\t\t3,711.00\n",
      "6\t\t\t4,453.20\n",
      "7\t\t\t5,195.40\n",
      "8\t\t\t5,937.60\n",
      "9\t\t\t6,679.80\n",
      "10\t\t\t7,422.00\n",
      "11\t\t\t8,164.20\n",
      "12\t\t\t8,906.40\n",
      "13\t\t\t9,648.60\n",
      "14\t\t\t10,390.80\n",
      "15\t\t\t11,133.00\n",
      "16\t\t\t11,875.20\n",
      "17\t\t\t12,617.40\n",
      "18\t\t\t13,359.60\n",
      "19\t\t\t14,101.80\n",
      "20\t\t\t14,844.00\n",
      "21\t\t\t15,586.20\n",
      "22\t\t\t16,328.40\n",
      "23\t\t\t17,070.60\n",
      "24\t\t\t17,812.80\n"
     ]
    }
   ],
   "source": [
    "# initialize variable for iteration through distance traveled\n",
    "count = 1\n",
    "\n",
    "# whalrus while loop pg.235 in book for miles per hour input from user\n",
    "while (mph := float(input(\"Enter the speed of a vehicle to calculate the distance traveled: \"))) <= 0:\n",
    "    print(\"The speed cannot be negative or 0.\")\n",
    "\n",
    "# whalrus while loop pg.235 in book for hours traveled input from user\n",
    "while (hours := float(input(\"Enter the number of hours traveled: \"))) <= 0:\n",
    "    print(\"The time cannot be negative or 0.\")\n",
    "\n",
    "# Calculate distance\n",
    "distance = mph * hours\n",
    "\n",
    "# format header for ouput\n",
    "print()\n",
    "print(\"Hour\\t\\t\\tDistance Traveled\")\n",
    "print(\"-----------------------------------------\")\n",
    "\n",
    "# while loop count based condition\n",
    "while count <= hours:\n",
    "    # calculate running total miles traveled\n",
    "    travel = mph * count\n",
    "    # output values for hour of trip and distance traveled so far\n",
    "    print(f\"{count}\\t\\t\\t{travel:,.02f}\")\n",
    "    # increment count by 1 for iteration and ouput variable\n",
    "    count += 1"
   ]
  },
  {
   "cell_type": "markdown",
   "id": "381639d1-589f-4f8d-b634-a813fcfff266",
   "metadata": {},
   "source": [
    "### Problem **11**\n",
    "\n",
    "#### Question Text - Calculating the Factorial of a Number\n",
    "\n",
    "In mathematics, the notation n! represents the factorial of the nonnegative integer n. The factorial of n is the product of all the nonnegative integers from 1 to n. For example,\n",
    "\n",
    "    7! = 1 * 2 * 3 * 4 * 5 * 6 * 7 = 5040\n",
    "\n",
    "and\n",
    "\n",
    "    4! = 1 * 2 * 3 * 4 = 24\n",
    "\n",
    "Write a program that lets the user enter a nonnegative integer then uses a loop to calculate the factorial of that number. Display the factorial.\n",
    "\n",
    "#### High-Level Overview\n",
    "\n",
    "*In two to three sentences at minimum, walk through your general approach to the problem and identify any particular issues you had.*\n",
    "\n",
    "First, I created two variables to keep track of the output and total of the factorial. Then I created a whalrus while loop for the input from the user. Next, I started a for loop to iterate through the numbers preceding/including n in n! so that a total is kept and outputs are customized for certain values of n. Lastly, I displayed the results/output and created a visual aid for testing purposes."
   ]
  },
  {
   "cell_type": "code",
   "execution_count": 104,
   "id": "6dd1bd88-cfc8-4984-851c-4a5c92574e2a",
   "metadata": {},
   "outputs": [
    {
     "name": "stdin",
     "output_type": "stream",
     "text": [
      "Enter a nonnegative number to factorial:  7\n"
     ]
    },
    {
     "name": "stdout",
     "output_type": "stream",
     "text": [
      "The factorial of 7 is 5040\n",
      "1 * 2 * 3 * 4 * 5 * 6 * 7 = 5040\n"
     ]
    }
   ],
   "source": [
    "# initialize variables for output/total factorial\n",
    "total = 1\n",
    "output = \"\"\n",
    "\n",
    "# whalrus while loop pg. 235 again... its so good\n",
    "while (number := int(input(\"Enter a nonnegative number to factorial: \"))) < 0:\n",
    "    print(\"please enter a nonnegative number.\")\n",
    "\n",
    "# if-elif-else block for various values of i in for loop\n",
    "for i in range(1, number + 1):\n",
    "    # multiply by i and assign to total\n",
    "    total *= i\n",
    "    # for i that doesn't equal number\n",
    "    if i != (number):\n",
    "        output += (f\"{i} * \")\n",
    "    # coded for 0 but never shows even with 0 input from user. would like help displaying 0 * 1 = 1 ?\n",
    "    elif i == 0:\n",
    "        output = (f\"{i} * 1 = 1\")\n",
    "    # special print/output for 1!\n",
    "    elif i == 1:\n",
    "        output = (f\"{i} * {i} = {i * i}\")\n",
    "    # end of the factorial output\n",
    "    else:\n",
    "        output += (f\"{i} = {total}\")\n",
    "\n",
    "# display results\n",
    "print(f\"The factorial of {number} is {total}\")\n",
    "# visualization if needed/testing\n",
    "print(output)"
   ]
  },
  {
   "attachments": {
    "344db82b-96b0-493e-bd0e-856451c2cc79.png": {
     "image/png": "[encoded data removed]"
    }
   },
   "cell_type": "markdown",
   "id": "486c0582-c384-42fe-9236-16f728729083",
   "metadata": {},
   "source": [
    "### Problem **16**\n",
    "\n",
    "#### Question Text - Turtle Graphics: Star Pattern\n",
    "\n",
    "Use a loop with the turtle graphics library to draw the design shown in Figure 4-14.\n",
    "\n",
    "\n",
    "    Figure 4-14 Star pattern \n",
    "\n",
    "![image.png](attachment:344db82b-96b0-493e-bd0e-856451c2cc79.png)\n",
    "\n",
    "#### High-Level Overview\n",
    "\n",
    "*In two to three sentences at minimum, walk through your general approach to the problem and identify any particular issues you had.*\n",
    "\n",
    "Use example from page 250, figure 4-12 for a guide how to do this. Fascinating designs can be made using this technique. First, I imported turtle graphics library and created various variables similar to the example from the book. Next, I moved the pen/turtle to another starting location. Lastly, I created a for loop using the number of lines, line length and angle to visualize the shape desired. "
   ]
  },
  {
   "cell_type": "code",
   "execution_count": 1,
   "id": "7e6b070b-4092-42ac-a727-4a6bcf66f8a9",
   "metadata": {},
   "outputs": [],
   "source": [
    "# import turtle graphics library\n",
    "import turtle\n",
    "\n",
    "# initialize variables needed to draw shape\n",
    "start_x = -200\n",
    "start_y = 0\n",
    "num_lines = 8\n",
    "line_length = 400\n",
    "angle = 135\n",
    "animation_speed = 10\n",
    "\n",
    "# alter speed of the animation\n",
    "turtle.speed(animation_speed)\n",
    "# lift pen to move to different starting point\n",
    "turtle.penup()\n",
    "# move to start point using x-axis and y-axis\n",
    "turtle.goto(start_x, start_y)\n",
    "# put pen back down to start drawing\n",
    "turtle.pendown()\n",
    "\n",
    "# for loop using remaining parameters following example from book\n",
    "for x in range(num_lines):\n",
    "    turtle.forward(line_length)\n",
    "    turtle.left(angle)"
   ]
  },
  {
   "cell_type": "code",
   "execution_count": null,
   "id": "19b01f59-ee5b-4660-9ed5-986e67c6c24d",
   "metadata": {},
   "outputs": [],
   "source": []
  }
 ],
 "metadata": {
  "kernelspec": {
   "display_name": "Python 3 (ipykernel)",
   "language": "python",
   "name": "python3"
  },
  "language_info": {
   "codemirror_mode": {
    "name": "ipython",
    "version": 3
   },
   "file_extension": ".py",
   "mimetype": "text/x-python",
   "name": "python",
   "nbconvert_exporter": "python",
   "pygments_lexer": "ipython3",
   "version": "3.12.7"
  }
 },
 "nbformat": 4,
 "nbformat_minor": 5
}
