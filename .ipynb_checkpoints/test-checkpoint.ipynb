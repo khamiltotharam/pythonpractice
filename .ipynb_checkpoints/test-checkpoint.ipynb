{
 "cells": [
  {
   "cell_type": "markdown",
   "id": "e3925d59-2828-45d8-b3ee-7c6ec0e5f9bf",
   "metadata": {},
   "source": [
    "# This is a test\n",
    "\n",
    "testing GitHub client functionality."
   ]
  },
  {
   "cell_type": "code",
   "execution_count": 1,
   "id": "9f03cd6d-1c25-48fe-a974-53f57e74f619",
   "metadata": {},
   "outputs": [
    {
     "name": "stdout",
     "output_type": "stream",
     "text": [
      "Testing...\n"
     ]
    }
   ],
   "source": [
    "print(\"Testing...\")"
   ]
  },
  {
   "cell_type": "code",
   "execution_count": null,
   "id": "64f510f6-c43d-4b0a-95ce-9bf468a71f09",
   "metadata": {},
   "outputs": [],
   "source": []
  }
 ],
 "metadata": {
  "kernelspec": {
   "display_name": "Python 3 (ipykernel)",
   "language": "python",
   "name": "python3"
  },
  "language_info": {
   "codemirror_mode": {
    "name": "ipython",
    "version": 3
   },
   "file_extension": ".py",
   "mimetype": "text/x-python",
   "name": "python",
   "nbconvert_exporter": "python",
   "pygments_lexer": "ipython3",
   "version": "3.12.7"
  }
 },
 "nbformat": 4,
 "nbformat_minor": 5
}
