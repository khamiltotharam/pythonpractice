{
 "cells": [
  {
   "cell_type": "markdown",
   "id": "81b8bff4-00c0-420c-9b9c-5f0e2c3e07de",
   "metadata": {},
   "source": [
    "# Chapter **6** Coding Set\n",
    "\n",
    "Work completed by Khamil Totharam.\n",
    "\n",
    "If you start to struggle with a problem for an extended period of time, remember you can go comment on two other submissions now (seeing other student work helps), or you can post in our discussion forum for questions, which can also earn you extra credit."
   ]
  },
  {
   "cell_type": "markdown",
   "id": "ca0e7336-b7e6-4ec7-a0c4-434e9e093a08",
   "metadata": {},
   "source": [
    "## Imports\n",
    "\n",
    "**If your program requires additional modules, external resources, or files, use this cell to set them up**"
   ]
  },
  {
   "cell_type": "code",
   "execution_count": 1,
   "id": "6d1687c3-d330-4aa2-b396-b96dc1f3ebfb",
   "metadata": {},
   "outputs": [],
   "source": [
    "# configure your environment\n",
    "\n",
    "# you can uncomment this code to make use of files stored in your Google Drive\n",
    "# from google.colab import drive\n",
    "# drive.mount('/content/drive')\n",
    "\n",
    "# you can uncomment the following line of code to use the pandas library\n",
    "import pandas as pd"
   ]
  },
  {
   "cell_type": "markdown",
   "id": "2b9f545c-61f2-4999-bf3d-3bdaf90809eb",
   "metadata": {},
   "source": [
    "## Algorithm Workbench"
   ]
  },
  {
   "cell_type": "markdown",
   "id": "86141dc2-aafb-4cda-bb86-99f3863c8156",
   "metadata": {},
   "source": [
    "### Problem **7**\n",
    "\n",
    "#### Question Text\n",
    "\n",
    "A file exists on the disk named students.txt. The file contains several records, and each record contains two fields: (1) the student’s name, and (2) the student’s score for the final exam. Write code that deletes the record containing “John Perz” as the student name. \n",
    "\n",
    "#### High-Level Overview\n",
    "\n",
    "Reference \"Deleting Records\" from page 381 in book for a guide to do this problem. First I imported the \"os\" functions which will be used later and declared the main function. I set a boolean flag variable to False and got the student name from the user to be removed from the file. Next, I opened two files to read and write respectively then read the first line of the \"students.txt\" file. A while loop followed and will repeat until the end of the file is reached. Within the loop, I read the score, converted to a float, and saved to a variable. I then stripped the newline off the name variable and assigned the result back to the name variable. Still in the loop, I created an if-else block that writes the records to the \"temp.txt\" file if it doesn't match searched name variable. Lastly in the loop, I read the next name/record in the file. After the while loop, I deleted the original \"students.txt\" file and renamed the \"temp.txt\" file to \"students.txt\". Finally, I displayed a message indicating if the record was found and deleted then called the main function."
   ]
  },
  {
   "cell_type": "code",
   "execution_count": 12,
   "id": "0f4b9b6a-9195-443d-bcb7-0e13ee018831",
   "metadata": {},
   "outputs": [
    {
     "name": "stdin",
     "output_type": "stream",
     "text": [
      "Enter a student name:  John Perz\n"
     ]
    },
    {
     "name": "stdout",
     "output_type": "stream",
     "text": [
      "That item was not found in the file.\n"
     ]
    }
   ],
   "source": [
    "# import for remove and rename functions\n",
    "import os\n",
    "\n",
    "def main():\n",
    "    # create bool variable to use as a flag\n",
    "    found = False\n",
    "    # get name to delete\n",
    "    search = input(\"Enter a student name: \")\n",
    "    # Open the original students.txt file and the temporary file\n",
    "    with open(\"students.txt\", \"r\") as students_file, open(\"temp.txt\", \"w\") as temp_file:\n",
    "        # read the first line of students.txt\n",
    "        name = students_file.readline()\n",
    "        # read rest of the file until an empty string is found\n",
    "        while name != \"\":\n",
    "            # read score and save converted float to variable\n",
    "            score = float(students_file.readline())\n",
    "            # strips newline at the end and assign back to name\n",
    "            name = name.rstrip(\"\\n\")\n",
    "            # condition if not the searched name\n",
    "            if name != search:\n",
    "                # write name to temp.txt\n",
    "                temp_file.write(f\"{name}\\n\")\n",
    "                # write score to temp.txt\n",
    "                temp_file.write(f\"{score}\\n\")\n",
    "            # the name is found\n",
    "            else:\n",
    "                # set bool variable to True\n",
    "                found = True\n",
    "            # read next record in file\n",
    "            name = students_file.readline()\n",
    "    # delete the original students.txt file        \n",
    "    os.remove(\"students.txt\")\n",
    "    # rename the temporary file\n",
    "    os.rename(\"temp.txt\", \"students.txt\")\n",
    "    # display message\n",
    "    if found:\n",
    "        print(\"The file has been updated.\")\n",
    "    else:\n",
    "        print(\"That item was not found in the file.\")\n",
    "# call the main function\n",
    "if __name__ == \"__main__\":\n",
    "    main()"
   ]
  },
  {
   "cell_type": "markdown",
   "id": "87b8a851-802f-4eb1-8270-58f3409c8c64",
   "metadata": {},
   "source": [
    "### Problem **8**\n",
    "\n",
    "#### Question Text\n",
    "\n",
    "A file exists on the disk named students.txt. The file contains several records, and each record contains two fields: (1) the student’s name, and (2) the student’s score for the final exam. Write code that changes Julie Milan’s score to 100.\n",
    "\n",
    "#### High-Level Overview\n",
    "\n",
    "Refer to page 378 \"Modifying Records\" for a guide how to do this problem. First I declared a main function and set a boolean flag variable to False. Then I prompted the user for a name to update in the file \"students.txt,\" and get the updated score. Next, I opened two files to read and write respectively then read the first line of the \"students.txt\" file. This was followed by a while loop which repeated until the end of the file is reached. Within the loop, I read the score, converted to a float, and saved to a variable. I then stripped the newline off the name variable and assigned the result back to the name variable. Still in the while loop, I created an if-else block that writes the updated score to the temporary file if the search matches the name variable and sets found to True. If the statement doesn't match, the name and score are written to the file unchanged and followed by another reading of the next line. This marks the end of the loop where I deleted the old students.txt file and renamed the temporary file to students.txt. Lastly I displayed a message if found is True/False and called the main function.\n",
    "\n"
   ]
  },
  {
   "cell_type": "code",
   "execution_count": 14,
   "id": "fef49193-d041-4bfd-ab9e-2c06b9867d35",
   "metadata": {},
   "outputs": [
    {
     "name": "stdin",
     "output_type": "stream",
     "text": [
      "Enter a name to update score:  Julie Milan\n",
      "Enter the new score:  100\n"
     ]
    },
    {
     "name": "stdout",
     "output_type": "stream",
     "text": [
      "The file has been updated\n"
     ]
    }
   ],
   "source": [
    "# declare main function\n",
    "def main():\n",
    "    # set bool flag variable to False\n",
    "    found = False\n",
    "    # get input from user for name to update\n",
    "    search = input(\"Enter a name to update score: \")\n",
    "    # get input from user for new score\n",
    "    new_score = float(input(\"Enter the new score: \"))\n",
    "    # Open the original students.txt file and the temporary file\n",
    "    with open(\"students.txt\", \"r\") as students_file, open(\"temp.txt\", \"w\") as temp_file:\n",
    "        # read the first line of students.txt\n",
    "        name = students_file.readline()\n",
    "        # read rest of the file until an empty string is found\n",
    "        while name != \"\":\n",
    "            # read score and save converted float to variable\n",
    "            score = float(students_file.readline())\n",
    "            # strips newline at the end and assign back to name\n",
    "            name = name.rstrip(\"\\n\")\n",
    "            # condition if name is equal to search\n",
    "            if name == search:\n",
    "                # write name to temp.txt file\n",
    "                temp_file.write(f\"{name}\\n\")\n",
    "                # write updated score to temp.txt file\n",
    "                temp_file.write(f\"{new_score}\\n\")\n",
    "                # set bool flag variable to True\n",
    "                found = True\n",
    "            # iterate name and score not searched \n",
    "            else:\n",
    "                # write read name to temp.txt\n",
    "                temp_file.write(f\"{name}\\n\")\n",
    "                # write read score to temp.txt\n",
    "                temp_file.write(f\"{score}\\n\")\n",
    "            # read next name in file\n",
    "            name = students_file.readline()\n",
    "    # deletes original student.txt file\n",
    "    os.remove(\"students.txt\")\n",
    "    # rename temporary file\n",
    "    os.rename(\"temp.txt\", \"students.txt\")\n",
    "    # display message\n",
    "    if found:\n",
    "        print(\"The file has been updated\")\n",
    "    else:\n",
    "        print(\"The name was not found in the file.\")\n",
    "# call the main function\n",
    "if __name__ == \"__main__\":\n",
    "    main()"
   ]
  },
  {
   "cell_type": "markdown",
   "id": "18cf08ef-576c-4e66-a6a1-3e77635490c0",
   "metadata": {},
   "source": [
    "## Programming Exercises"
   ]
  },
  {
   "cell_type": "markdown",
   "id": "b3483028-67d2-4c67-a691-84fd5230600f",
   "metadata": {},
   "source": [
    "### Problem **1**\n",
    "\n",
    "#### Question Text - File Display\n",
    "\n",
    "Assume a file containing a series of integers is named numbers.txt and exists on the computer’s disk. Write a program that displays all of the numbers in the file.\n",
    "\n",
    "#### High-Level Overview\n",
    "\n",
    "Watch the video for help how to do this exercise on page 397 after the first question. First I declared a function and opened the numbers.txt file to  read. Then I created a for loop to iterate until the end of the file is reached. I printed the line after converting to an integer and lastly called the main function."
   ]
  },
  {
   "cell_type": "code",
   "execution_count": 18,
   "id": "541099bb-e698-4a88-af62-07ca6d796938",
   "metadata": {},
   "outputs": [
    {
     "name": "stdout",
     "output_type": "stream",
     "text": [
      "10\n",
      "9\n",
      "8\n",
      "7\n",
      "6\n",
      "5\n",
      "4\n",
      "3\n",
      "2\n",
      "1\n"
     ]
    }
   ],
   "source": [
    "# define main function\n",
    "def main():\n",
    "    # open file in read mode \n",
    "    with open(\"numbers.txt\", \"r\") as infile:\n",
    "        # loop through each line of file\n",
    "        for line in infile:\n",
    "            # display line after converting to an integer\n",
    "            print(int(line))\n",
    "# call the main function\n",
    "if __name__ == \"__main__\":\n",
    "    main()"
   ]
  },
  {
   "cell_type": "markdown",
   "id": "41861902-1093-44fe-be50-4bac4b44c5fc",
   "metadata": {},
   "source": [
    "### Problem **6**\n",
    "\n",
    "#### Question Text - Average of Numbers\n",
    "\n",
    "Assume a file containing a series of integers is named numbers.txt and exists on the computer’s disk. Write a program that calculates the average of all the numbers stored in the file.\n",
    "\n",
    "#### High-Level Overview\n",
    "\n",
    "*In two to three sentences at minimum, walk through your general approach to the problem and identify any particular issues you had.*\n",
    "\n",
    "First I declared the main function and initialized two variables for later. I then opened the numbers.txt file in read mode. Next, I created a for loop  to iterate through the file until the end is reached. Within the loop, I incremented count and added the line from file to the total variable. Outside the loop now, I calculated the average, displayed it, and called the main function.\n"
   ]
  },
  {
   "cell_type": "code",
   "execution_count": 20,
   "id": "0d4691ca-50df-46ae-bb07-eb312e683b2c",
   "metadata": {},
   "outputs": [
    {
     "name": "stdout",
     "output_type": "stream",
     "text": [
      "5.5\n"
     ]
    }
   ],
   "source": [
    "# define main function\n",
    "def main():\n",
    "    count = 0\n",
    "    total = 0\n",
    "    # open file in read mode \n",
    "    with open(\"numbers.txt\", \"r\") as infile:\n",
    "        # loop through each line of file\n",
    "        for line in infile:\n",
    "            # increment count by 1\n",
    "            count += 1\n",
    "            # sum up the numbers line by line\n",
    "            total += int(line)\n",
    "    # calculate average\n",
    "    average =  total / count\n",
    "    # display average\n",
    "    print(average)\n",
    "# call the main function\n",
    "if __name__ == \"__main__\":\n",
    "    main()"
   ]
  },
  {
   "cell_type": "markdown",
   "id": "7bb656d8-ceab-4a7e-acdb-95f81ad307f8",
   "metadata": {},
   "source": [
    "### Problem **9**\n",
    "\n",
    "#### Question Text\n",
    "\n",
    "Modify the program that you wrote for Exercise 6 so it handles the following exceptions:\n",
    "\n",
    "    It should handle any IOError exceptions that are raised when the file is opened and data is read from it.\n",
    "    It should handle any ValueError exceptions that are raised when the items that are read from the file are converted to a number.\n",
    "\n",
    "#### High-Level Overview\n",
    "\n",
    "*In two to three sentences at minimum, walk through your general approach to the problem and identify any particular issues you had.*\n",
    "\n",
    "This exercise has largely been copied from the previous problem. I updated the inialization of the file variable so it can be handled with exceptions. I started the \"with\" portion inside a try block until the average is displayed and then created two exceptions that will be handled. Lastly I called the main function."
   ]
  },
  {
   "cell_type": "code",
   "execution_count": 28,
   "id": "4d25896f-b741-4163-b53e-440b3c64828d",
   "metadata": {},
   "outputs": [
    {
     "name": "stdout",
     "output_type": "stream",
     "text": [
      "invalid literal for int() with base 10: 'five\\n'\n",
      "A value error occured when converting to a number.\n"
     ]
    }
   ],
   "source": [
    "# define main function\n",
    "def main():\n",
    "    count = 0\n",
    "    total = 0\n",
    "    filename = \"numbers.txt\"\n",
    "    try:\n",
    "        # open file in read mode \n",
    "        with open(filename, \"r\") as infile:\n",
    "            # loop through each line of file\n",
    "            for line in infile:\n",
    "                # increment count by 1\n",
    "                count += 1\n",
    "                # sum up the numbers line by line\n",
    "                total += int(line)\n",
    "        # calculate average\n",
    "        average =  total / count\n",
    "        # display average\n",
    "        print(average)\n",
    "    # catch Input/Output errors and display filname\n",
    "    except IOError as e:\n",
    "        print(e)\n",
    "        print(f\"An error occured opening and reading data from {filename}.\")\n",
    "    # catch value errors (\"five\" in the file numbers.txt)\n",
    "    except ValueError as e:\n",
    "        print(e)\n",
    "        print(f\"A value error occured when converting to a number.\")\n",
    "# call the main function\n",
    "if __name__ == \"__main__\":\n",
    "    main()"
   ]
  },
  {
   "cell_type": "markdown",
   "id": "e7a6584e-bd60-4970-be87-abf1b499657f",
   "metadata": {},
   "source": [
    "### Problem **7**\n",
    "\n",
    "#### Question Text - Random Number File Writer\n",
    "\n",
    "Write a program that writes a series of random numbers to a file. Each random number should be in the range of 1 through 500. The application should let the user specify how many random numbers the file will hold.\n",
    "\n",
    "#### High-Level Overview\n",
    "\n",
    "*In two to three sentences at minimum, walk through your general approach to the problem and identify any particular issues you had.*\n",
    "\n",
    "First I imported the random module, declared a function, and promted the user for the number of random numbers generated. I then opened a file in the write mode as \"outfile.\" Then I created a for loop to iterate through the number from the input and write a random number to file. Lastly I displayed a message and called the main function."
   ]
  },
  {
   "cell_type": "code",
   "execution_count": 37,
   "id": "831b0e3f-f0bc-4c2c-b8cb-ce96ac995d24",
   "metadata": {},
   "outputs": [
    {
     "name": "stdin",
     "output_type": "stream",
     "text": [
      "Enter how many random numbers the file will hold.\n",
      " 7000\n"
     ]
    },
    {
     "name": "stdout",
     "output_type": "stream",
     "text": [
      "done writing\n"
     ]
    }
   ],
   "source": [
    "# import random module\n",
    "import random\n",
    "# declare main function\n",
    "def main():\n",
    "    # prompt user for amount of random numbers to generate\n",
    "    number = int(input(\"Enter how many random numbers the file will hold.\\n\"))\n",
    "    # open new file to write to \n",
    "    with open(\"random.txt\", \"w\") as outfile:\n",
    "        # iterate through the number from input\n",
    "        for num in range(number):\n",
    "            # write random number to file\n",
    "            outfile.write(f\"{random.randint(1, 500)}\\n\")\n",
    "    # finish writing\n",
    "    print(\"done writing\")\n",
    "# call main function\n",
    "if __name__ == \"__main__\":\n",
    "    main()"
   ]
  },
  {
   "cell_type": "markdown",
   "id": "da2e2b72-4177-4367-92e4-fefc93edad11",
   "metadata": {},
   "source": [
    "## Helpful Checks\n",
    "\n",
    "1.   Did you comment every line of code with meaningful information that will help others reading your code?\n",
    "2.   Did you use appropriate names for your variables, functions, and/or classes?\n",
    "3.   Did you include a high-level explanation for each solution?\n",
    "4.   Did you run each cell that includes a final solution so the output is saved and easily viewed by others?\n",
    "5.   Are you sharing an editable link (i.e., Share > Anyone with the link > Editor) if using Colaboratory, or did you make more than ten commits if using GitHub?\n",
    "6.   Did you remember to comment on the submissions of two other students?"
   ]
  },
  {
   "cell_type": "code",
   "execution_count": null,
   "id": "635f1ff7-282a-4f21-9063-d8fc6b4a3c0f",
   "metadata": {},
   "outputs": [],
   "source": []
  }
 ],
 "metadata": {
  "kernelspec": {
   "display_name": "Python 3 (ipykernel)",
   "language": "python",
   "name": "python3"
  },
  "language_info": {
   "codemirror_mode": {
    "name": "ipython",
    "version": 3
   },
   "file_extension": ".py",
   "mimetype": "text/x-python",
   "name": "python",
   "nbconvert_exporter": "python",
   "pygments_lexer": "ipython3",
   "version": "3.12.7"
  }
 },
 "nbformat": 4,
 "nbformat_minor": 5
}
