{
 "cells": [
  {
   "cell_type": "markdown",
   "id": "95a37273-bb34-4b14-8771-872ab6ce297d",
   "metadata": {},
   "source": [
    "# Chapter **4** Coding Set\n",
    "\n",
    "**Remember to save a copy of this template BEFORE YOU START WORKING :)**\n",
    "\n",
    "Work completed by Khamil Totharam.\n",
    "\n",
    "If you start to struggle with a problem for an extended period of time, remember you can go comment on two other submissions now (seeing other student work helps), or you can post in our discussion forum for questions, which can also earn you extra credit."
   ]
  },
  {
   "cell_type": "markdown",
   "id": "597fefce-158e-48ed-a147-9a591f66ecc5",
   "metadata": {},
   "source": [
    "## Imports\n",
    "\n",
    "**If your program requires additional modules, external resources, or files, use this cell to set them up**"
   ]
  },
  {
   "cell_type": "code",
   "execution_count": 1,
   "id": "f31f0749-a496-4870-a93f-ee23bce4c9fb",
   "metadata": {},
   "outputs": [],
   "source": [
    "# configure your environment\n",
    "\n",
    "# you can uncomment this code to make use of files stored in your Google Drive\n",
    "# from google.colab import drive\n",
    "# drive.mount('/content/drive')\n",
    "\n",
    "# you can uncomment the following line of code to use the pandas library\n",
    "import pandas as pd"
   ]
  },
  {
   "cell_type": "markdown",
   "id": "d9a8e798-0da6-4791-9e8b-02df81bf05f9",
   "metadata": {},
   "source": [
    "## Algorithm Workbench"
   ]
  },
  {
   "cell_type": "markdown",
   "id": "9dc2cbef-1679-44d1-b1d1-db2ebc3279af",
   "metadata": {},
   "source": [
    "### Problem **4**\n",
    "\n",
    "#### Question Text\n",
    "\n",
    "Write a loop that asks the user to enter a number. The loop should iterate 10 times and keep a running total of the numbers entered.\n",
    "\n",
    "#### High-Level Overview\n",
    "\n",
    "*In two to three sentences at minimum, walk through your general approach to the problem and identify any particular issues you had.*\n",
    "\n",
    "First I created variables needed for keeping a running total, iterating through a loop, and prompting the user. Then I nested a whalrus while loop inside a regular while loop with count based comparison. The whalrus while loop is able to prompt and assign at the same time of a comparison being made and is less code overall when inspecting inputs from the user. Next, I get a total from the user input and increment by one for the outer while loop and print a running total. It's crutial to have the correct indentation when utilizing these tecniques. Finally I printed the total once more to signify the end of the program."
   ]
  },
  {
   "cell_type": "code",
   "execution_count": 22,
   "id": "f8d854da-2474-48e4-8a5e-b7ccd1cad221",
   "metadata": {},
   "outputs": [
    {
     "name": "stdin",
     "output_type": "stream",
     "text": [
      "Enter a number:  -50\n",
      "Enter a positive nonzero number.\n",
      " -2\n"
     ]
    },
    {
     "name": "stdout",
     "output_type": "stream",
     "text": [
      "The score cannot be negative or 0.\n"
     ]
    },
    {
     "name": "stdin",
     "output_type": "stream",
     "text": [
      "Enter a positive nonzero number.\n",
      " 1\n"
     ]
    },
    {
     "name": "stdout",
     "output_type": "stream",
     "text": [
      "running total: 1.0\n"
     ]
    },
    {
     "name": "stdin",
     "output_type": "stream",
     "text": [
      "Enter a positive nonzero number.\n",
      " 2\n"
     ]
    },
    {
     "name": "stdout",
     "output_type": "stream",
     "text": [
      "running total: 3.0\n"
     ]
    },
    {
     "name": "stdin",
     "output_type": "stream",
     "text": [
      "Enter a positive nonzero number.\n",
      " 3\n"
     ]
    },
    {
     "name": "stdout",
     "output_type": "stream",
     "text": [
      "running total: 6.0\n"
     ]
    },
    {
     "name": "stdin",
     "output_type": "stream",
     "text": [
      "Enter a positive nonzero number.\n",
      " 4\n"
     ]
    },
    {
     "name": "stdout",
     "output_type": "stream",
     "text": [
      "running total: 10.0\n"
     ]
    },
    {
     "name": "stdin",
     "output_type": "stream",
     "text": [
      "Enter a positive nonzero number.\n",
      " 5\n"
     ]
    },
    {
     "name": "stdout",
     "output_type": "stream",
     "text": [
      "running total: 15.0\n"
     ]
    },
    {
     "name": "stdin",
     "output_type": "stream",
     "text": [
      "Enter a positive nonzero number.\n",
      " 6\n"
     ]
    },
    {
     "name": "stdout",
     "output_type": "stream",
     "text": [
      "running total: 21.0\n"
     ]
    },
    {
     "name": "stdin",
     "output_type": "stream",
     "text": [
      "Enter a positive nonzero number.\n",
      " 7\n"
     ]
    },
    {
     "name": "stdout",
     "output_type": "stream",
     "text": [
      "running total: 28.0\n"
     ]
    },
    {
     "name": "stdin",
     "output_type": "stream",
     "text": [
      "Enter a positive nonzero number.\n",
      " 8\n"
     ]
    },
    {
     "name": "stdout",
     "output_type": "stream",
     "text": [
      "running total: 36.0\n"
     ]
    },
    {
     "name": "stdin",
     "output_type": "stream",
     "text": [
      "Enter a positive nonzero number.\n",
      " 9\n"
     ]
    },
    {
     "name": "stdout",
     "output_type": "stream",
     "text": [
      "running total: 45.0\n"
     ]
    },
    {
     "name": "stdin",
     "output_type": "stream",
     "text": [
      "Enter a positive nonzero number.\n",
      " 10\n"
     ]
    },
    {
     "name": "stdout",
     "output_type": "stream",
     "text": [
      "running total: 55.0\n",
      "total: 55.0\n"
     ]
    }
   ],
   "source": [
    "# prompt user and create variables needed\n",
    "number = float(input(\"Enter a number: \"))\n",
    "count = 10\n",
    "iteration = 0\n",
    "total = 0\n",
    "\n",
    "# comparison to iterate 10 times\n",
    "while iteration < count:\n",
    "        # whalrus while loop from pg. 235 utilized\n",
    "        while (number := float(input(\"Enter a positive nonzero number.\\n\"))) <= 0:\n",
    "            print(\"The score cannot be negative or 0.\")\n",
    "        # add total from input\n",
    "        total += number\n",
    "        # incremting by one for outer loop\n",
    "        iteration += 1\n",
    "        # display a running total while running program\n",
    "        print(f\"running total: {total}\")\n",
    "# display final ouput and end program\n",
    "print(f\"total: {total}\")"
   ]
  },
  {
   "cell_type": "markdown",
   "id": "01ed8cff-e90a-41dd-9e6d-1370664231a5",
   "metadata": {},
   "source": [
    "### Problem **5**\n",
    "\n",
    "#### Question Text\n",
    "\n",
    "Write a loop that calculates the total of the following series of numbers:\n",
    "\n",
    "    1/30  + 2/29 + 3/28 + ... 30/1\n",
    "\n",
    "#### High-Level Overview\n",
    "\n",
    "*In two to three sentences at minimum, walk through your general approach to the problem and identify any particular issues you had.*\n",
    "\n",
    "First I created the variables needed for calculating the total of the series. Then I started a while loop with the condition of repeting 30 times. Inside the loop, the quotient of the numerator and denominator would be added to total then count would be incremented by one.  Lastly when the loop finishes I displayed the total ouput."
   ]
  },
  {
   "cell_type": "code",
   "execution_count": 30,
   "id": "6af1de28-13f3-44c5-9cee-8c7c86b10d34",
   "metadata": {},
   "outputs": [
    {
     "name": "stdout",
     "output_type": "stream",
     "text": [
      "total: 93.845\n"
     ]
    }
   ],
   "source": [
    "# initialize variables needed\n",
    "numerator = 1\n",
    "denominator = 30\n",
    "count = 0\n",
    "iteration = 30\n",
    "total = 0\n",
    "\n",
    "# while loop 0 to 29 \n",
    "while count < iteration:\n",
    "    # add to total the quotient of numerator divide by denominator\n",
    "    total += (numerator/denominator)\n",
    "    # increment numerator\n",
    "    numerator += 1\n",
    "    # decrement denominator\n",
    "    denominator -= 1\n",
    "    # increment count\n",
    "    count += 1\n",
    "# display total output\n",
    "print(f\"total: {total:.3f}\")"
   ]
  },
  {
   "cell_type": "markdown",
   "id": "8fd6c724-5249-4828-b678-ab40e03495e3",
   "metadata": {},
   "source": [
    "## Programming Exercises"
   ]
  },
  {
   "cell_type": "markdown",
   "id": "1eb10b5c-854f-4470-81b2-92df36612d42",
   "metadata": {},
   "source": [
    "### Problem **1**\n",
    "\n",
    "#### Question Text - Bug Collector\n",
    "\n",
    "A bug collector collects bugs every day for five days. Write a program that keeps a running total of the number of bugs collected during the five days. The loop should ask for the number of bugs collected for each day, and when the loop is finished, the program should display the total number of bugs collected.\n",
    "\n",
    "#### High-Level Overview\n",
    "\n",
    "*In two to three sentences at minimum, walk through your general approach to the problem and identify any particular issues you had.*"
   ]
  },
  {
   "cell_type": "code",
   "execution_count": null,
   "id": "d554e20d-7de5-49a8-90f5-4afb2b81cbcd",
   "metadata": {},
   "outputs": [],
   "source": []
  }
 ],
 "metadata": {
  "kernelspec": {
   "display_name": "Python 3 (ipykernel)",
   "language": "python",
   "name": "python3"
  },
  "language_info": {
   "codemirror_mode": {
    "name": "ipython",
    "version": 3
   },
   "file_extension": ".py",
   "mimetype": "text/x-python",
   "name": "python",
   "nbconvert_exporter": "python",
   "pygments_lexer": "ipython3",
   "version": "3.12.7"
  }
 },
 "nbformat": 4,
 "nbformat_minor": 5
}
